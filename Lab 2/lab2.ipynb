{
 "cells": [
  {
   "cell_type": "markdown",
   "metadata": {},
   "source": [
    "# Toronto Bike Share"
   ]
  },
  {
   "cell_type": "markdown",
   "metadata": {},
   "source": [
    "## Questions\n",
    "\n",
    "### Due: Oct. 9, 9:30\n",
    "\n",
    "Use the 2016 Q3, 2016 Q4, and 2017 Toronto Bikeshare ridership data available at https://open.toronto.ca/dataset/bike-share-toronto-ridership-data/ to answer the following questions.\n",
    "\n",
    "Station information, including real time data, is available at https://open.toronto.ca/dataset/bike-share-toronto/.\n",
    "\n",
    "A [blog](https://towardsdatascience.com/exploring-toronto-bike-share-ridership-using-python-3dc87d35cb62) post was written on the 2017 data set.\n",
    "\n",
    "Use Python in a Jupyter notebook to answer the following questions. In all of the questions below interpret your results, and identify limitations.\n",
    "\n",
    "Read through the questions below. <br>\n",
    "(i) Create a brief plan of the variables that you plan to use to answer these questions, <br>\n",
    "(ii) explore the variables using quantitative and visual methods <br>\n",
    "(iii) rectify any inconsistencies you find through exploration <br>\n",
    "\n",
    "1. Do casual users take shorter trips compared to members? <br>\n",
    "\n",
    "2. Is it possible to identify if bikes are being used by tourists or residents?\n",
    "\n",
    "3. Does season or weather affect trip duration or distance?\n",
    "\n",
    "    (a) Define trip length in two ways, and create a variables in the data set <br>\n",
    "    (b) What factors affect trip length? Do these factors differ depending on your definition?\n",
    "\n",
    "Use linear regression to build a prediction model of trip length.\n",
    "\n",
    "Parts of code from this lab report are from: <br>\n",
    "Class Slide\n",
    "https://nbviewer.jupyter.org/github/STA2453/STA2453.github.io/blob/master/sta2453-class-slides.ipynb#Another-question-<br>\n",
    "Blog Post:\n",
    "https://towardsdatascience.com/exploring-toronto-bike-share-ridership-using-python-3dc87d35cb62\n",
    "https://github.com/open-data-toronto/story-bike-share-ridership/blob/master/clean_data.ipynb\n"
   ]
  },
  {
   "cell_type": "markdown",
   "metadata": {},
   "source": [
    "# Instructions\n",
    "In order to store datasets downloaded from online, we need to create a \"data\" folder at the same location as this notebook."
   ]
  },
  {
   "cell_type": "markdown",
   "metadata": {},
   "source": [
    "# Data Downloading, Cleaning and Storage"
   ]
  },
  {
   "cell_type": "code",
   "execution_count": 317,
   "metadata": {},
   "outputs": [],
   "source": [
    "import os, json, requests, zipfile, io, urllib\n",
    "import matplotlib.pyplot as plt\n",
    "%matplotlib inline\n",
    "import pandas as pd\n",
    "import datetime as dt\n",
    "import numpy as np\n",
    "from geopy.distance import geodesic\n",
    "import seaborn as sns"
   ]
  },
  {
   "cell_type": "markdown",
   "metadata": {},
   "source": [
    "### Download all ridership data from Q3, Q4 2016 and all quarters in 2017"
   ]
  },
  {
   "cell_type": "code",
   "execution_count": 37,
   "metadata": {},
   "outputs": [],
   "source": [
    "url = \"https://ckan0.cf.opendata.inter.prod-toronto.ca/api/3/action/package_show\"\n",
    "params = { \"id\": \"7e876c24-177c-4605-9cef-e50dd74c617f\"}\n",
    "response = urllib.request.urlopen(url, data=bytes(json.dumps(params), encoding=\"utf-8\"))\n",
    "package = json.loads(response.read())\n",
    "\n",
    "url_params = ['bikeshare-ridership-2016-q3', 'bikeshare-ridership-2016-q4', 'bikeshare-ridership-2017']\n",
    "\n",
    "date_formats = {\n",
    "    '2017 Data/Bikeshare Ridership (2017 Q1).csv': ['%d/%m/%Y %H:%M', -4],\n",
    "    '2017 Data/Bikeshare Ridership (2017 Q2).csv': ['%d/%m/%Y %H:%M', -4],\n",
    "    '2017 Data/Bikeshare Ridership (2017 Q3).csv': ['%m/%d/%Y %H:%M', 0],\n",
    "    '2017 Data/Bikeshare Ridership (2017 Q4).csv': ['%m/%d/%y %H:%M', 0],\n",
    "}\n",
    "\n",
    "for d in package['result']['resources']:\n",
    "    for key, value in d.items():\n",
    "        if key == 'name':\n",
    "            if value == url_params[0]:\n",
    "                raw_2016_Q3 = pd.read_excel(d['url'])\n",
    "                # Read the datetime in the specified format\n",
    "                raw_2016_Q3['trip_start_time'] = pd.to_datetime(raw_2016_Q3['trip_start_time'], format = '%d/%m/%Y %H:%M', errors='coerce') \n",
    "                # Convert the input time to the Easter timezone\n",
    "                raw_2016_Q3['trip_start_time'] = raw_2016_Q3['trip_start_time'] + dt.timedelta(hours=-4)                    \n",
    "                raw_2016_Q3['trip_stop_time']= pd.to_datetime(raw_2016_Q3['trip_stop_time'], format = '%d/%m/%Y %H:%M', errors='coerce') \n",
    "                raw_2016_Q3['trip_stop_time'] = raw_2016_Q3['trip_stop_time'] + dt.timedelta(hours=-4)\n",
    "        \n",
    "            elif value == url_params[1]:\n",
    "                raw_2016_Q4 = pd.read_excel(d['url'])\n",
    "                raw_2016_Q4['trip_start_time'] = pd.to_datetime(raw_2016_Q4['trip_start_time'], errors='coerce')\n",
    "                raw_2016_Q4['trip_start_time'] = raw_2016_Q4['trip_start_time'] + dt.timedelta(hours=-4)\n",
    "                raw_2016_Q4['trip_stop_time'] = pd.to_datetime(raw_2016_Q4['trip_stop_time'], errors='coerce') \n",
    "                raw_2016_Q4['trip_stop_time'] = raw_2016_Q4['trip_stop_time'] + dt.timedelta(hours=-4)\n",
    "                \n",
    "            elif value == url_params[2]:\n",
    "                r = urllib.request.urlopen(d['url']).read()\n",
    "                z = zipfile.ZipFile(io.BytesIO(r))\n",
    "                raw_2017 = pd.DataFrame()\n",
    "                for fn, fmt in date_formats.items():\n",
    "                    csv = z.open(fn)\n",
    "                    tmp = pd.read_csv(csv)\n",
    "                    \n",
    "                    # handle datetime formatting for Q4 \n",
    "                    if fn == '2017 Data/Bikeshare Ridership (2017 Q4).csv':\n",
    "                        tmp['trip_start_time'] = pd.to_datetime(tmp['trip_start_time'], errors='coerce') \n",
    "                        tmp['trip_stop_time'] = pd.to_datetime(tmp['trip_stop_time'], errors='coerce') \n",
    "                        \n",
    "                    else:\n",
    "                        tmp['trip_start_time'] = pd.to_datetime(tmp['trip_start_time'], format=fmt[0], errors='coerce') \n",
    "                        tmp['trip_start_time'] = tmp['trip_start_time'] + dt.timedelta(hours=fmt[1])                    \n",
    "                        tmp['trip_stop_time'] = pd.to_datetime(tmp['trip_stop_time'], format=fmt[0], errors='coerce') \n",
    "                        tmp['trip_stop_time'] = tmp['trip_stop_time'] + dt.timedelta(hours=fmt[1])                    \n",
    "                    \n",
    "                    # Merge the content of the file to the main DataFrame\n",
    "                    raw_2017 = pd.concat([raw_2017, tmp], sort=False).reset_index(drop=True)\n",
    "                "
   ]
  },
  {
   "cell_type": "markdown",
   "metadata": {},
   "source": [
    "Now let's make sure that the our data make sense visually in terms of trip start time."
   ]
  },
  {
   "cell_type": "code",
   "execution_count": 46,
   "metadata": {},
   "outputs": [
    {
     "data": {
      "text/html": [
       "<div>\n",
       "<style scoped>\n",
       "    .dataframe tbody tr th:only-of-type {\n",
       "        vertical-align: middle;\n",
       "    }\n",
       "\n",
       "    .dataframe tbody tr th {\n",
       "        vertical-align: top;\n",
       "    }\n",
       "\n",
       "    .dataframe thead th {\n",
       "        text-align: right;\n",
       "    }\n",
       "</style>\n",
       "<table border=\"1\" class=\"dataframe\">\n",
       "  <thead>\n",
       "    <tr style=\"text-align: right;\">\n",
       "      <th></th>\n",
       "      <th>trip_id</th>\n",
       "      <th>trip_start_time</th>\n",
       "      <th>trip_stop_time</th>\n",
       "      <th>trip_duration_seconds</th>\n",
       "      <th>from_station_name</th>\n",
       "      <th>to_station_name</th>\n",
       "      <th>user_type</th>\n",
       "    </tr>\n",
       "  </thead>\n",
       "  <tbody>\n",
       "    <tr>\n",
       "      <th>0</th>\n",
       "      <td>53279</td>\n",
       "      <td>2016-07-08 21:03:00</td>\n",
       "      <td>2016-07-08 21:15:00</td>\n",
       "      <td>714</td>\n",
       "      <td>Dundas St E / Regent Park Blvd</td>\n",
       "      <td>Danforth Ave / Ellerbeck St</td>\n",
       "      <td>Member</td>\n",
       "    </tr>\n",
       "    <tr>\n",
       "      <th>1</th>\n",
       "      <td>53394</td>\n",
       "      <td>2016-07-08 22:15:00</td>\n",
       "      <td>2016-07-08 22:22:00</td>\n",
       "      <td>417</td>\n",
       "      <td>Riverdale Park North (Broadview Ave)</td>\n",
       "      <td>Dundas St E / Regent Park Blvd</td>\n",
       "      <td>Member</td>\n",
       "    </tr>\n",
       "    <tr>\n",
       "      <th>2</th>\n",
       "      <td>58314</td>\n",
       "      <td>2016-07-10 13:04:00</td>\n",
       "      <td>2016-07-10 13:36:00</td>\n",
       "      <td>1904</td>\n",
       "      <td>Dundas St E / Regent Park Blvd</td>\n",
       "      <td>Queen St W / Close Ave</td>\n",
       "      <td>Member</td>\n",
       "    </tr>\n",
       "    <tr>\n",
       "      <th>3</th>\n",
       "      <td>60784</td>\n",
       "      <td>2016-07-10 21:45:00</td>\n",
       "      <td>2016-07-10 21:58:00</td>\n",
       "      <td>784</td>\n",
       "      <td>Union Station</td>\n",
       "      <td>Dundas St E / Regent Park Blvd</td>\n",
       "      <td>Member</td>\n",
       "    </tr>\n",
       "    <tr>\n",
       "      <th>4</th>\n",
       "      <td>93164</td>\n",
       "      <td>2016-07-18 09:35:00</td>\n",
       "      <td>2016-07-18 09:42:00</td>\n",
       "      <td>443</td>\n",
       "      <td>Front St W / Blue Jays Way</td>\n",
       "      <td>Front St / Yonge St (Hockey Hall of Fame)</td>\n",
       "      <td>Member</td>\n",
       "    </tr>\n",
       "  </tbody>\n",
       "</table>\n",
       "</div>"
      ],
      "text/plain": [
       "   trip_id     trip_start_time      trip_stop_time  trip_duration_seconds  \\\n",
       "0    53279 2016-07-08 21:03:00 2016-07-08 21:15:00                    714   \n",
       "1    53394 2016-07-08 22:15:00 2016-07-08 22:22:00                    417   \n",
       "2    58314 2016-07-10 13:04:00 2016-07-10 13:36:00                   1904   \n",
       "3    60784 2016-07-10 21:45:00 2016-07-10 21:58:00                    784   \n",
       "4    93164 2016-07-18 09:35:00 2016-07-18 09:42:00                    443   \n",
       "\n",
       "                      from_station_name  \\\n",
       "0        Dundas St E / Regent Park Blvd   \n",
       "1  Riverdale Park North (Broadview Ave)   \n",
       "2        Dundas St E / Regent Park Blvd   \n",
       "3                         Union Station   \n",
       "4            Front St W / Blue Jays Way   \n",
       "\n",
       "                             to_station_name user_type  \n",
       "0                Danforth Ave / Ellerbeck St    Member  \n",
       "1             Dundas St E / Regent Park Blvd    Member  \n",
       "2                     Queen St W / Close Ave    Member  \n",
       "3             Dundas St E / Regent Park Blvd    Member  \n",
       "4  Front St / Yonge St (Hockey Hall of Fame)    Member  "
      ]
     },
     "execution_count": 46,
     "metadata": {},
     "output_type": "execute_result"
    }
   ],
   "source": [
    "# Remove Irrelevant Data in Q3 2016\n",
    "raw_2016_Q3 = raw_2016_Q3[raw_2016_Q3['trip_start_time'].dt.month >= 7]\n",
    "raw_2016_Q3 = raw_2016_Q3[raw_2016_Q3['trip_start_time'].dt.month <= 9]\n",
    "raw_2016_Q3 = raw_2016_Q3[raw_2016_Q3['trip_stop_time'].dt.month >= 7]\n",
    "raw_2016_Q3 = raw_2016_Q3[raw_2016_Q3['trip_stop_time'].dt.month <= 9]\n",
    "raw_2016_Q3.head()"
   ]
  },
  {
   "cell_type": "code",
   "execution_count": 36,
   "metadata": {},
   "outputs": [
    {
     "data": {
      "text/plain": [
       "<matplotlib.axes._subplots.AxesSubplot at 0x7f572370c390>"
      ]
     },
     "execution_count": 36,
     "metadata": {},
     "output_type": "execute_result"
    },
    {
     "data": {
      "image/png": "[encoded data removed]",
      "text/plain": [
       "<Figure size 432x288 with 1 Axes>"
      ]
     },
     "metadata": {
      "needs_background": "light"
     },
     "output_type": "display_data"
    }
   ],
   "source": [
    "raw_2016_Q3['trip_start_time'].dt.hour.hist(bins=10, color=\"grey\", edgecolor = \"black\")"
   ]
  },
  {
   "cell_type": "code",
   "execution_count": 39,
   "metadata": {},
   "outputs": [
    {
     "data": {
      "text/html": [
       "<div>\n",
       "<style scoped>\n",
       "    .dataframe tbody tr th:only-of-type {\n",
       "        vertical-align: middle;\n",
       "    }\n",
       "\n",
       "    .dataframe tbody tr th {\n",
       "        vertical-align: top;\n",
       "    }\n",
       "\n",
       "    .dataframe thead th {\n",
       "        text-align: right;\n",
       "    }\n",
       "</style>\n",
       "<table border=\"1\" class=\"dataframe\">\n",
       "  <thead>\n",
       "    <tr style=\"text-align: right;\">\n",
       "      <th></th>\n",
       "      <th>trip_id</th>\n",
       "      <th>trip_start_time</th>\n",
       "      <th>trip_stop_time</th>\n",
       "      <th>trip_duration_seconds</th>\n",
       "      <th>from_station_name</th>\n",
       "      <th>to_station_name</th>\n",
       "      <th>user_type</th>\n",
       "    </tr>\n",
       "  </thead>\n",
       "  <tbody>\n",
       "    <tr>\n",
       "      <th>33949</th>\n",
       "      <td>501394</td>\n",
       "      <td>2016-10-09 20:00:00</td>\n",
       "      <td>2016-10-09 20:27:00</td>\n",
       "      <td>1597</td>\n",
       "      <td>Essex St / Christie St</td>\n",
       "      <td>Danforth Ave / Ellerbeck St</td>\n",
       "      <td>Member</td>\n",
       "    </tr>\n",
       "    <tr>\n",
       "      <th>33950</th>\n",
       "      <td>501396</td>\n",
       "      <td>2016-10-09 20:00:00</td>\n",
       "      <td>2016-10-09 20:09:00</td>\n",
       "      <td>519</td>\n",
       "      <td>College St W / Major St</td>\n",
       "      <td>Bloor St / Brunswick Ave</td>\n",
       "      <td>Casual</td>\n",
       "    </tr>\n",
       "    <tr>\n",
       "      <th>33951</th>\n",
       "      <td>501395</td>\n",
       "      <td>2016-10-09 20:00:00</td>\n",
       "      <td>2016-10-09 20:27:00</td>\n",
       "      <td>1586</td>\n",
       "      <td>Essex St / Christie St</td>\n",
       "      <td>Danforth Ave / Ellerbeck St</td>\n",
       "      <td>Member</td>\n",
       "    </tr>\n",
       "    <tr>\n",
       "      <th>33952</th>\n",
       "      <td>501397</td>\n",
       "      <td>2016-10-09 20:02:00</td>\n",
       "      <td>2016-10-09 20:29:00</td>\n",
       "      <td>1637</td>\n",
       "      <td>College St W / Borden St</td>\n",
       "      <td>25 York St (ACC/Union Station South)</td>\n",
       "      <td>Member</td>\n",
       "    </tr>\n",
       "    <tr>\n",
       "      <th>33953</th>\n",
       "      <td>501398</td>\n",
       "      <td>2016-10-09 20:02:00</td>\n",
       "      <td>2016-10-09 20:10:00</td>\n",
       "      <td>476</td>\n",
       "      <td>Wellesley St / Queen's Park Cres</td>\n",
       "      <td>Queen St W / York St (City Hall)</td>\n",
       "      <td>Member</td>\n",
       "    </tr>\n",
       "  </tbody>\n",
       "</table>\n",
       "</div>"
      ],
      "text/plain": [
       "       trip_id     trip_start_time      trip_stop_time  trip_duration_seconds  \\\n",
       "33949   501394 2016-10-09 20:00:00 2016-10-09 20:27:00                   1597   \n",
       "33950   501396 2016-10-09 20:00:00 2016-10-09 20:09:00                    519   \n",
       "33951   501395 2016-10-09 20:00:00 2016-10-09 20:27:00                   1586   \n",
       "33952   501397 2016-10-09 20:02:00 2016-10-09 20:29:00                   1637   \n",
       "33953   501398 2016-10-09 20:02:00 2016-10-09 20:10:00                    476   \n",
       "\n",
       "                      from_station_name                       to_station_name  \\\n",
       "33949            Essex St / Christie St           Danforth Ave / Ellerbeck St   \n",
       "33950           College St W / Major St              Bloor St / Brunswick Ave   \n",
       "33951            Essex St / Christie St           Danforth Ave / Ellerbeck St   \n",
       "33952          College St W / Borden St  25 York St (ACC/Union Station South)   \n",
       "33953  Wellesley St / Queen's Park Cres      Queen St W / York St (City Hall)   \n",
       "\n",
       "      user_type  \n",
       "33949    Member  \n",
       "33950    Casual  \n",
       "33951    Member  \n",
       "33952    Member  \n",
       "33953    Member  "
      ]
     },
     "execution_count": 39,
     "metadata": {},
     "output_type": "execute_result"
    }
   ],
   "source": [
    "# Remove Irrelevant Data in Q4 2016\n",
    "raw_2016_Q4 = raw_2016_Q4[raw_2016_Q4['trip_start_time'].dt.month >= 10]\n",
    "raw_2016_Q4 = raw_2016_Q4[raw_2016_Q4['trip_start_time'].dt.month <= 12]\n",
    "raw_2016_Q4 = raw_2016_Q4[raw_2016_Q4['trip_stop_time'].dt.month >= 10]\n",
    "raw_2016_Q4 = raw_2016_Q4[raw_2016_Q4['trip_stop_time'].dt.month <= 12]\n",
    "raw_2016_Q4.head()"
   ]
  },
  {
   "cell_type": "code",
   "execution_count": 45,
   "metadata": {},
   "outputs": [
    {
     "data": {
      "text/plain": [
       "<matplotlib.axes._subplots.AxesSubplot at 0x7f5714fc1160>"
      ]
     },
     "execution_count": 45,
     "metadata": {},
     "output_type": "execute_result"
    },
    {
     "data": {
      "image/png": "[encoded data removed]",
      "text/plain": [
       "<Figure size 432x288 with 1 Axes>"
      ]
     },
     "metadata": {
      "needs_background": "light"
     },
     "output_type": "display_data"
    }
   ],
   "source": [
    "raw_2016_Q4['trip_start_time'].dt.hour.hist(bins=10, color=\"grey\", edgecolor = \"black\")"
   ]
  },
  {
   "cell_type": "code",
   "execution_count": 51,
   "metadata": {},
   "outputs": [
    {
     "data": {
      "text/html": [
       "<div>\n",
       "<style scoped>\n",
       "    .dataframe tbody tr th:only-of-type {\n",
       "        vertical-align: middle;\n",
       "    }\n",
       "\n",
       "    .dataframe tbody tr th {\n",
       "        vertical-align: top;\n",
       "    }\n",
       "\n",
       "    .dataframe thead th {\n",
       "        text-align: right;\n",
       "    }\n",
       "</style>\n",
       "<table border=\"1\" class=\"dataframe\">\n",
       "  <thead>\n",
       "    <tr style=\"text-align: right;\">\n",
       "      <th></th>\n",
       "      <th>trip_id</th>\n",
       "      <th>trip_start_time</th>\n",
       "      <th>trip_stop_time</th>\n",
       "      <th>trip_duration_seconds</th>\n",
       "      <th>from_station_id</th>\n",
       "      <th>from_station_name</th>\n",
       "      <th>to_station_id</th>\n",
       "      <th>to_station_name</th>\n",
       "      <th>user_type</th>\n",
       "    </tr>\n",
       "  </thead>\n",
       "  <tbody>\n",
       "    <tr>\n",
       "      <th>58</th>\n",
       "      <td>712441</td>\n",
       "      <td>2017-01-01 00:03:00</td>\n",
       "      <td>2017-01-01 00:08:00</td>\n",
       "      <td>274</td>\n",
       "      <td>7006.0</td>\n",
       "      <td>Bay St / College St (East Side)</td>\n",
       "      <td>7021.0</td>\n",
       "      <td>Bay St / Albert St</td>\n",
       "      <td>Member</td>\n",
       "    </tr>\n",
       "    <tr>\n",
       "      <th>59</th>\n",
       "      <td>712442</td>\n",
       "      <td>2017-01-01 00:03:00</td>\n",
       "      <td>2017-01-01 00:12:00</td>\n",
       "      <td>538</td>\n",
       "      <td>7046.0</td>\n",
       "      <td>Niagara St / Richmond St W</td>\n",
       "      <td>7147.0</td>\n",
       "      <td>King St W / Fraser Ave</td>\n",
       "      <td>Member</td>\n",
       "    </tr>\n",
       "    <tr>\n",
       "      <th>60</th>\n",
       "      <td>712443</td>\n",
       "      <td>2017-01-01 00:05:00</td>\n",
       "      <td>2017-01-01 00:22:00</td>\n",
       "      <td>992</td>\n",
       "      <td>7048.0</td>\n",
       "      <td>Front St / Yonge St (Hockey Hall of Fame)</td>\n",
       "      <td>7089.0</td>\n",
       "      <td>Church St  / Wood St</td>\n",
       "      <td>Member</td>\n",
       "    </tr>\n",
       "    <tr>\n",
       "      <th>61</th>\n",
       "      <td>712444</td>\n",
       "      <td>2017-01-01 00:09:00</td>\n",
       "      <td>2017-01-01 00:26:00</td>\n",
       "      <td>1005</td>\n",
       "      <td>7177.0</td>\n",
       "      <td>East Liberty St / Pirandello St</td>\n",
       "      <td>7202.0</td>\n",
       "      <td>Queen St W / York St (City Hall)</td>\n",
       "      <td>Member</td>\n",
       "    </tr>\n",
       "    <tr>\n",
       "      <th>62</th>\n",
       "      <td>712445</td>\n",
       "      <td>2017-01-01 00:14:00</td>\n",
       "      <td>2017-01-01 00:25:00</td>\n",
       "      <td>645</td>\n",
       "      <td>7203.0</td>\n",
       "      <td>Bathurst St / Queens Quay W</td>\n",
       "      <td>7010.0</td>\n",
       "      <td>King St W / Spadina Ave</td>\n",
       "      <td>Member</td>\n",
       "    </tr>\n",
       "  </tbody>\n",
       "</table>\n",
       "</div>"
      ],
      "text/plain": [
       "    trip_id     trip_start_time      trip_stop_time  trip_duration_seconds  \\\n",
       "58   712441 2017-01-01 00:03:00 2017-01-01 00:08:00                    274   \n",
       "59   712442 2017-01-01 00:03:00 2017-01-01 00:12:00                    538   \n",
       "60   712443 2017-01-01 00:05:00 2017-01-01 00:22:00                    992   \n",
       "61   712444 2017-01-01 00:09:00 2017-01-01 00:26:00                   1005   \n",
       "62   712445 2017-01-01 00:14:00 2017-01-01 00:25:00                    645   \n",
       "\n",
       "    from_station_id                          from_station_name  to_station_id  \\\n",
       "58           7006.0            Bay St / College St (East Side)         7021.0   \n",
       "59           7046.0                 Niagara St / Richmond St W         7147.0   \n",
       "60           7048.0  Front St / Yonge St (Hockey Hall of Fame)         7089.0   \n",
       "61           7177.0            East Liberty St / Pirandello St         7202.0   \n",
       "62           7203.0                Bathurst St / Queens Quay W         7010.0   \n",
       "\n",
       "                     to_station_name user_type  \n",
       "58                Bay St / Albert St    Member  \n",
       "59            King St W / Fraser Ave    Member  \n",
       "60              Church St  / Wood St    Member  \n",
       "61  Queen St W / York St (City Hall)    Member  \n",
       "62           King St W / Spadina Ave    Member  "
      ]
     },
     "execution_count": 51,
     "metadata": {},
     "output_type": "execute_result"
    }
   ],
   "source": [
    "# Remove Irrelevant Data in 2017\n",
    "raw_2017 = raw_2017[raw_2017['trip_start_time'].dt.year == 2017]\n",
    "raw_2017 = raw_2017[raw_2017['trip_stop_time'].dt.year == 2017]\n",
    "raw_2017.head()"
   ]
  },
  {
   "cell_type": "code",
   "execution_count": 54,
   "metadata": {},
   "outputs": [
    {
     "data": {
      "text/plain": [
       "<matplotlib.axes._subplots.AxesSubplot at 0x7f1362120b70>"
      ]
     },
     "execution_count": 54,
     "metadata": {},
     "output_type": "execute_result"
    },
    {
     "data": {
      "image/png": "[encoded data removed]",
      "text/plain": [
       "<Figure size 432x288 with 1 Axes>"
      ]
     },
     "metadata": {
      "needs_background": "light"
     },
     "output_type": "display_data"
    }
   ],
   "source": [
    "raw_2017['trip_start_time'].dt.hour.hist(bins=10, color=\"grey\", edgecolor = \"black\")"
   ]
  },
  {
   "cell_type": "code",
   "execution_count": 55,
   "metadata": {},
   "outputs": [],
   "source": [
    "# Store data in the data folder\n",
    "raw_2016_Q3.to_csv('./data/bikeshare-ridership-2016-q3.csv', index=False)\n",
    "raw_2016_Q4.to_csv('./data/bikeshare-ridership-2016-q4.csv', index=False)\n",
    "raw_2017.to_csv('./data/bikeshare-ridership-2017.csv', index=False)"
   ]
  },
  {
   "cell_type": "code",
   "execution_count": 543,
   "metadata": {},
   "outputs": [],
   "source": [
    "# Read tables directly from the data folder if initial download has been done\n",
    "raw_2016_Q3 = pd.read_csv('./data/bikeshare-ridership-2016-q3.csv')\n",
    "raw_2016_Q4 = pd.read_csv('./data/bikeshare-ridership-2016-q4.csv')\n",
    "raw_2017 = pd.read_csv('./data/bikeshare-ridership-2017.csv')\n"
   ]
  },
  {
   "cell_type": "markdown",
   "metadata": {},
   "source": [
    "### Download and store the station id and location data"
   ]
  },
  {
   "cell_type": "code",
   "execution_count": 712,
   "metadata": {},
   "outputs": [],
   "source": [
    "# Download and Store Station Data\n",
    "url = \"https://ckan0.cf.opendata.inter.prod-toronto.ca/api/3/action/package_show\"\n",
    "params = { \"id\": \"2b44db0d-eea9-442d-b038-79335368ad5a\"}\n",
    "response = urllib.request.urlopen(url, data=bytes(json.dumps(params), encoding=\"utf-8\"))\n",
    "package = json.loads(response.read())\n",
    "\n",
    "station_url = package['result']['resources']\n",
    "r = requests.get('https://tor.publicbikesystem.net/ube/gbfs/v1/en/station_information')\n",
    "bikeshare_stations = json.loads(r.content)['data']['stations']\n",
    "bikeshare_stations = pd.DataFrame(bikeshare_stations)[['station_id', 'name', 'lat', 'lon']].astype({\n",
    "    'station_id': 'float64',\n",
    "})\n",
    "\n",
    "bikeshare_stations.to_csv('./data/bikeshare_stations.csv', index=False)\n"
   ]
  },
  {
   "cell_type": "code",
   "execution_count": 249,
   "metadata": {},
   "outputs": [],
   "source": [
    "bikeshare_stations = pd.read_csv('./data/bikeshare_stations.csv')"
   ]
  },
  {
   "cell_type": "markdown",
   "metadata": {},
   "source": [
    "## Merge Ridership and Station Data"
   ]
  },
  {
   "cell_type": "markdown",
   "metadata": {},
   "source": [
    "Try and merge the Q3 2016 ridership data and station data. We found out that are still missing values for station ids. This is because of the mismatch between station names in the two tables."
   ]
  },
  {
   "cell_type": "code",
   "execution_count": 250,
   "metadata": {},
   "outputs": [
    {
     "data": {
      "text/html": [
       "<div>\n",
       "<style scoped>\n",
       "    .dataframe tbody tr th:only-of-type {\n",
       "        vertical-align: middle;\n",
       "    }\n",
       "\n",
       "    .dataframe tbody tr th {\n",
       "        vertical-align: top;\n",
       "    }\n",
       "\n",
       "    .dataframe thead th {\n",
       "        text-align: right;\n",
       "    }\n",
       "</style>\n",
       "<table border=\"1\" class=\"dataframe\">\n",
       "  <thead>\n",
       "    <tr style=\"text-align: right;\">\n",
       "      <th></th>\n",
       "      <th>trip_id</th>\n",
       "      <th>trip_start_time</th>\n",
       "      <th>trip_stop_time</th>\n",
       "      <th>trip_duration_seconds</th>\n",
       "      <th>from_station_name</th>\n",
       "      <th>to_station_name</th>\n",
       "      <th>user_type</th>\n",
       "      <th>from_station_id</th>\n",
       "      <th>from_lat</th>\n",
       "      <th>from_lon</th>\n",
       "      <th>to_station_id</th>\n",
       "      <th>to_lat</th>\n",
       "      <th>to_lon</th>\n",
       "    </tr>\n",
       "  </thead>\n",
       "  <tbody>\n",
       "    <tr>\n",
       "      <td>0</td>\n",
       "      <td>53279</td>\n",
       "      <td>2016-07-08 21:03:00</td>\n",
       "      <td>2016-07-08 21:15:00</td>\n",
       "      <td>714</td>\n",
       "      <td>Dundas St E / Regent Park Blvd</td>\n",
       "      <td>Danforth Ave / Ellerbeck St</td>\n",
       "      <td>Member</td>\n",
       "      <td>7100.0</td>\n",
       "      <td>43.660207</td>\n",
       "      <td>-79.361275</td>\n",
       "      <td>7095.0</td>\n",
       "      <td>43.677076</td>\n",
       "      <td>-79.356670</td>\n",
       "    </tr>\n",
       "    <tr>\n",
       "      <td>1</td>\n",
       "      <td>53394</td>\n",
       "      <td>2016-07-08 22:15:00</td>\n",
       "      <td>2016-07-08 22:22:00</td>\n",
       "      <td>417</td>\n",
       "      <td>Riverdale Park North (Broadview Ave)</td>\n",
       "      <td>Dundas St E / Regent Park Blvd</td>\n",
       "      <td>Member</td>\n",
       "      <td>7097.0</td>\n",
       "      <td>43.671172</td>\n",
       "      <td>-79.354704</td>\n",
       "      <td>7100.0</td>\n",
       "      <td>43.660207</td>\n",
       "      <td>-79.361275</td>\n",
       "    </tr>\n",
       "    <tr>\n",
       "      <td>2</td>\n",
       "      <td>58314</td>\n",
       "      <td>2016-07-10 13:04:00</td>\n",
       "      <td>2016-07-10 13:36:00</td>\n",
       "      <td>1904</td>\n",
       "      <td>Dundas St E / Regent Park Blvd</td>\n",
       "      <td>Queen St W / Close Ave</td>\n",
       "      <td>Member</td>\n",
       "      <td>7100.0</td>\n",
       "      <td>43.660207</td>\n",
       "      <td>-79.361275</td>\n",
       "      <td>7136.0</td>\n",
       "      <td>43.640634</td>\n",
       "      <td>-79.435841</td>\n",
       "    </tr>\n",
       "    <tr>\n",
       "      <td>3</td>\n",
       "      <td>60784</td>\n",
       "      <td>2016-07-10 21:45:00</td>\n",
       "      <td>2016-07-10 21:58:00</td>\n",
       "      <td>784</td>\n",
       "      <td>Union Station</td>\n",
       "      <td>Dundas St E / Regent Park Blvd</td>\n",
       "      <td>Member</td>\n",
       "      <td>7033.0</td>\n",
       "      <td>43.645609</td>\n",
       "      <td>-79.380386</td>\n",
       "      <td>7100.0</td>\n",
       "      <td>43.660207</td>\n",
       "      <td>-79.361275</td>\n",
       "    </tr>\n",
       "    <tr>\n",
       "      <td>4</td>\n",
       "      <td>93164</td>\n",
       "      <td>2016-07-18 09:35:00</td>\n",
       "      <td>2016-07-18 09:42:00</td>\n",
       "      <td>443</td>\n",
       "      <td>Front St W / Blue Jays Way</td>\n",
       "      <td>Front St / Yonge St (Hockey Hall of Fame)</td>\n",
       "      <td>Member</td>\n",
       "      <td>7059.0</td>\n",
       "      <td>43.643473</td>\n",
       "      <td>-79.390477</td>\n",
       "      <td>NaN</td>\n",
       "      <td>NaN</td>\n",
       "      <td>NaN</td>\n",
       "    </tr>\n",
       "  </tbody>\n",
       "</table>\n",
       "</div>"
      ],
      "text/plain": [
       "   trip_id      trip_start_time       trip_stop_time  trip_duration_seconds  \\\n",
       "0    53279  2016-07-08 21:03:00  2016-07-08 21:15:00                    714   \n",
       "1    53394  2016-07-08 22:15:00  2016-07-08 22:22:00                    417   \n",
       "2    58314  2016-07-10 13:04:00  2016-07-10 13:36:00                   1904   \n",
       "3    60784  2016-07-10 21:45:00  2016-07-10 21:58:00                    784   \n",
       "4    93164  2016-07-18 09:35:00  2016-07-18 09:42:00                    443   \n",
       "\n",
       "                      from_station_name  \\\n",
       "0        Dundas St E / Regent Park Blvd   \n",
       "1  Riverdale Park North (Broadview Ave)   \n",
       "2        Dundas St E / Regent Park Blvd   \n",
       "3                         Union Station   \n",
       "4            Front St W / Blue Jays Way   \n",
       "\n",
       "                             to_station_name user_type  from_station_id  \\\n",
       "0                Danforth Ave / Ellerbeck St    Member           7100.0   \n",
       "1             Dundas St E / Regent Park Blvd    Member           7097.0   \n",
       "2                     Queen St W / Close Ave    Member           7100.0   \n",
       "3             Dundas St E / Regent Park Blvd    Member           7033.0   \n",
       "4  Front St / Yonge St (Hockey Hall of Fame)    Member           7059.0   \n",
       "\n",
       "    from_lat   from_lon  to_station_id     to_lat     to_lon  \n",
       "0  43.660207 -79.361275         7095.0  43.677076 -79.356670  \n",
       "1  43.671172 -79.354704         7100.0  43.660207 -79.361275  \n",
       "2  43.660207 -79.361275         7136.0  43.640634 -79.435841  \n",
       "3  43.645609 -79.380386         7100.0  43.660207 -79.361275  \n",
       "4  43.643473 -79.390477            NaN        NaN        NaN  "
      ]
     },
     "execution_count": 250,
     "metadata": {},
     "output_type": "execute_result"
    }
   ],
   "source": [
    "Q3_2016 = pd.merge(raw_2016_Q3, bikeshare_stations, left_on='from_station_name', \\\n",
    "                   right_on='name', how='left')\n",
    "\n",
    "Q3_2016 = Q3_2016.rename(columns={\"station_id\": \"from_station_id\", \"lat\": \"from_lat\", \"lon\":\"from_lon\"})\n",
    "Q3_2016 = Q3_2016.drop(columns='name', axis = 1)\n",
    "\n",
    "Q3_2016 = pd.merge(Q3_2016, bikeshare_stations, left_on='to_station_name', \\\n",
    "                   right_on='name', how='left')\n",
    "\n",
    "Q3_2016 = Q3_2016.rename(columns={\"station_id\": \"to_station_id\", \"lat\": \"to_lat\", \"lon\":\"to_lon\"})\n",
    "Q3_2016 = Q3_2016.drop(columns='name', axis = 1)\n",
    "\n",
    "Q3_2016.head()\n"
   ]
  },
  {
   "cell_type": "markdown",
   "metadata": {},
   "source": [
    "Percentage of missing station id's in Q3 2016"
   ]
  },
  {
   "cell_type": "code",
   "execution_count": 251,
   "metadata": {},
   "outputs": [
    {
     "data": {
      "text/plain": [
       "0.2689933594313214"
      ]
     },
     "execution_count": 251,
     "metadata": {},
     "output_type": "execute_result"
    }
   ],
   "source": [
    "# 26.89%\n",
    "np.isnan(Q3_2016['from_station_id']).sum() / len(Q3_2016['from_station_id']) "
   ]
  },
  {
   "cell_type": "code",
   "execution_count": 252,
   "metadata": {},
   "outputs": [
    {
     "data": {
      "text/plain": [
       "0.2725652835095718"
      ]
     },
     "execution_count": 252,
     "metadata": {},
     "output_type": "execute_result"
    }
   ],
   "source": [
    "# 27.26%\n",
    "np.isnan(Q3_2016['to_station_id']).sum() / len(Q3_2016['to_station_id'])"
   ]
  },
  {
   "cell_type": "markdown",
   "metadata": {},
   "source": [
    "Count all station names that has NaN station id."
   ]
  },
  {
   "cell_type": "code",
   "execution_count": 253,
   "metadata": {},
   "outputs": [
    {
     "data": {
      "text/html": [
       "<div>\n",
       "<style scoped>\n",
       "    .dataframe tbody tr th:only-of-type {\n",
       "        vertical-align: middle;\n",
       "    }\n",
       "\n",
       "    .dataframe tbody tr th {\n",
       "        vertical-align: top;\n",
       "    }\n",
       "\n",
       "    .dataframe thead th {\n",
       "        text-align: right;\n",
       "    }\n",
       "</style>\n",
       "<table border=\"1\" class=\"dataframe\">\n",
       "  <thead>\n",
       "    <tr style=\"text-align: right;\">\n",
       "      <th></th>\n",
       "      <th>trip_id</th>\n",
       "      <th>from_station_name</th>\n",
       "    </tr>\n",
       "    <tr>\n",
       "      <th>from_station_name</th>\n",
       "      <th></th>\n",
       "      <th></th>\n",
       "    </tr>\n",
       "  </thead>\n",
       "  <tbody>\n",
       "    <tr>\n",
       "      <td>Widmer St / Adelaide St</td>\n",
       "      <td>5709</td>\n",
       "      <td>1</td>\n",
       "    </tr>\n",
       "    <tr>\n",
       "      <td>Simcoe St / Wellington St W</td>\n",
       "      <td>5635</td>\n",
       "      <td>1</td>\n",
       "    </tr>\n",
       "    <tr>\n",
       "      <td>Dundas St / Yonge St</td>\n",
       "      <td>5455</td>\n",
       "      <td>1</td>\n",
       "    </tr>\n",
       "    <tr>\n",
       "      <td>Princess St / Adelaide St</td>\n",
       "      <td>4172</td>\n",
       "      <td>1</td>\n",
       "    </tr>\n",
       "    <tr>\n",
       "      <td>HTO Park (Queen's Quay W)</td>\n",
       "      <td>3986</td>\n",
       "      <td>1</td>\n",
       "    </tr>\n",
       "    <tr>\n",
       "      <td>Sherbourne St / Wellesley St</td>\n",
       "      <td>3945</td>\n",
       "      <td>1</td>\n",
       "    </tr>\n",
       "    <tr>\n",
       "      <td>Fort York  Blvd / Capreol Crt</td>\n",
       "      <td>3870</td>\n",
       "      <td>1</td>\n",
       "    </tr>\n",
       "    <tr>\n",
       "      <td>Beverly  St / Dundas St W</td>\n",
       "      <td>3732</td>\n",
       "      <td>1</td>\n",
       "    </tr>\n",
       "    <tr>\n",
       "      <td>Bay St / Bloor St W</td>\n",
       "      <td>3711</td>\n",
       "      <td>1</td>\n",
       "    </tr>\n",
       "    <tr>\n",
       "      <td>University Ave / King St W</td>\n",
       "      <td>3587</td>\n",
       "      <td>1</td>\n",
       "    </tr>\n",
       "  </tbody>\n",
       "</table>\n",
       "</div>"
      ],
      "text/plain": [
       "                               trip_id  from_station_name\n",
       "from_station_name                                        \n",
       "Widmer St / Adelaide St           5709                  1\n",
       "Simcoe St / Wellington St W       5635                  1\n",
       "Dundas St / Yonge St              5455                  1\n",
       "Princess St / Adelaide St         4172                  1\n",
       "HTO Park (Queen's Quay W)         3986                  1\n",
       "Sherbourne St / Wellesley St      3945                  1\n",
       "Fort York  Blvd / Capreol Crt     3870                  1\n",
       "Beverly  St / Dundas St W         3732                  1\n",
       "Bay St / Bloor St W               3711                  1\n",
       "University Ave / King St W        3587                  1"
      ]
     },
     "execution_count": 253,
     "metadata": {},
     "output_type": "execute_result"
    }
   ],
   "source": [
    "Q3_2016[np.isnan(Q3_2016['from_station_id'])].groupby('from_station_name') \\\n",
    "        ['trip_id','from_station_name'].nunique().sort_values('trip_id', ascending=False)[:10]\n"
   ]
  },
  {
   "cell_type": "code",
   "execution_count": 254,
   "metadata": {},
   "outputs": [
    {
     "data": {
      "text/html": [
       "<div>\n",
       "<style scoped>\n",
       "    .dataframe tbody tr th:only-of-type {\n",
       "        vertical-align: middle;\n",
       "    }\n",
       "\n",
       "    .dataframe tbody tr th {\n",
       "        vertical-align: top;\n",
       "    }\n",
       "\n",
       "    .dataframe thead th {\n",
       "        text-align: right;\n",
       "    }\n",
       "</style>\n",
       "<table border=\"1\" class=\"dataframe\">\n",
       "  <thead>\n",
       "    <tr style=\"text-align: right;\">\n",
       "      <th></th>\n",
       "      <th>station_id</th>\n",
       "      <th>name</th>\n",
       "      <th>lat</th>\n",
       "      <th>lon</th>\n",
       "    </tr>\n",
       "  </thead>\n",
       "  <tbody>\n",
       "    <tr>\n",
       "      <td>7</td>\n",
       "      <td>7007.0</td>\n",
       "      <td>College St / Huron St</td>\n",
       "      <td>43.658148</td>\n",
       "      <td>-79.398167</td>\n",
       "    </tr>\n",
       "    <tr>\n",
       "      <td>23</td>\n",
       "      <td>7023.0</td>\n",
       "      <td>College St / Borden St</td>\n",
       "      <td>43.657100</td>\n",
       "      <td>-79.405600</td>\n",
       "    </tr>\n",
       "    <tr>\n",
       "      <td>75</td>\n",
       "      <td>7077.0</td>\n",
       "      <td>College Park South</td>\n",
       "      <td>43.659777</td>\n",
       "      <td>-79.382767</td>\n",
       "    </tr>\n",
       "    <tr>\n",
       "      <td>76</td>\n",
       "      <td>7078.0</td>\n",
       "      <td>College St / Major St</td>\n",
       "      <td>43.657600</td>\n",
       "      <td>-79.403200</td>\n",
       "    </tr>\n",
       "    <tr>\n",
       "      <td>185</td>\n",
       "      <td>7199.0</td>\n",
       "      <td>College St / Markham St</td>\n",
       "      <td>43.656389</td>\n",
       "      <td>-79.409167</td>\n",
       "    </tr>\n",
       "    <tr>\n",
       "      <td>188</td>\n",
       "      <td>7204.0</td>\n",
       "      <td>College St / Crawford St</td>\n",
       "      <td>43.655000</td>\n",
       "      <td>-79.418889</td>\n",
       "    </tr>\n",
       "    <tr>\n",
       "      <td>270</td>\n",
       "      <td>7293.0</td>\n",
       "      <td>College St / McCaul St</td>\n",
       "      <td>43.659060</td>\n",
       "      <td>-79.393771</td>\n",
       "    </tr>\n",
       "    <tr>\n",
       "      <td>354</td>\n",
       "      <td>7389.0</td>\n",
       "      <td>College Park- Gerrard Entrance</td>\n",
       "      <td>43.658938</td>\n",
       "      <td>-79.383518</td>\n",
       "    </tr>\n",
       "    <tr>\n",
       "      <td>376</td>\n",
       "      <td>7418.0</td>\n",
       "      <td>College Park - Yonge St Entrance</td>\n",
       "      <td>43.659880</td>\n",
       "      <td>-79.382790</td>\n",
       "    </tr>\n",
       "  </tbody>\n",
       "</table>\n",
       "</div>"
      ],
      "text/plain": [
       "     station_id                              name        lat        lon\n",
       "7        7007.0             College St / Huron St  43.658148 -79.398167\n",
       "23       7023.0            College St / Borden St  43.657100 -79.405600\n",
       "75       7077.0                College Park South  43.659777 -79.382767\n",
       "76       7078.0             College St / Major St  43.657600 -79.403200\n",
       "185      7199.0           College St / Markham St  43.656389 -79.409167\n",
       "188      7204.0          College St / Crawford St  43.655000 -79.418889\n",
       "270      7293.0            College St / McCaul St  43.659060 -79.393771\n",
       "354      7389.0    College Park- Gerrard Entrance  43.658938 -79.383518\n",
       "376      7418.0  College Park - Yonge St Entrance  43.659880 -79.382790"
      ]
     },
     "execution_count": 254,
     "metadata": {},
     "output_type": "execute_result"
    }
   ],
   "source": [
    "# Use regular expression to check if above station names in bikeshare_stations\n",
    "pat = r'^College'\n",
    "bikeshare_stations[bikeshare_stations['name'].str.contains(pat)]"
   ]
  },
  {
   "cell_type": "markdown",
   "metadata": {},
   "source": [
    "#### Now, we replace the mismatched values to match names from station_name and merge again. Manually finding out these names were a lot of work."
   ]
  },
  {
   "cell_type": "code",
   "execution_count": 255,
   "metadata": {},
   "outputs": [],
   "source": [
    "# Found following mismatch station names:\n",
    "old_station_names = ['Fort York  Blvd / Capreol Crt', \n",
    "                    'Fort York Blvd / Capreol Ct',\n",
    "                    'HTO Park (Queen\\'s Quay W)',\n",
    "                    'Dundas St / Yonge St',\n",
    "                    'College St W / Huron St',\n",
    "                    'College St W / Major St',\n",
    "                    'Queens Park / Bloor St W',\n",
    "                    'Front St / Yonge St (Hockey Hall of Fame)',\n",
    "                    'Widmer St / Adelaide St ',\n",
    "                    'Sherbourne St / Wellesley St',\n",
    "                    'St George St / Bloor St W',\n",
    "                    '424 Wellington St. W',\n",
    "                    'Beverly  St / Dundas St W',\n",
    "                    'Beverley St / Dundas St W',\n",
    "                    'Beverly St / College St W',\n",
    "                    'Princess St / Adelaide St',\n",
    "                    'Temperance St / Yonge St',\n",
    "                    'University Ave / King St W',\n",
    "                    'Bay St / Bloor St W',\n",
    "                    'Wellesley St E / Yonge St Green P',\n",
    "                    'University Ave / College St',\n",
    "                    'Simcoe St / Dundas St W',\n",
    "                    'Simcoe St / Wellington St W',\n",
    "                    'Ontario Place Blvd / Remembrance Dr',\n",
    "                    'Bremner Blvd / Spadina Ave',\n",
    "                    '25 York St (ACC/Union Station South)'\n",
    "                    ]\n",
    "                     \n",
    "new_station_names = ['Fort York  Blvd / Capreol Ct', \n",
    "                    'Fort York  Blvd / Capreol Ct',\n",
    "                    'HTO Park (Queens Quay W)',\n",
    "                    'Dundas St W / Yonge St',\n",
    "                    'College St / Huron St',\n",
    "                    'College St / Major St',\n",
    "                    'Queen\\'s Park / Bloor St W',\n",
    "                    'Front St W / Yonge St (Hockey Hall of Fame)',\n",
    "                    'Widmer St / Adelaide St W',\n",
    "                    'Sherbourne St / Wellesley St E',\n",
    "                    'St. George St / Bloor St W',\n",
    "                    '424 Wellington St W',\n",
    "                    'Beverley  St / Dundas St W',\n",
    "                    'Beverley  St / Dundas St W',\n",
    "                    'Beverley St / College St',\n",
    "                    'Princess St / Adelaide St E',\n",
    "                    'Temperance St. Station',\n",
    "                    'York St / King St W - SMART',\n",
    "                    'Cumberland Ave / Bay St SMART',\n",
    "                    'Wellesley St E / Yonge St (Green P)',\n",
    "                    'University Ave / College St (West)',\n",
    "                    'Dundas St W / St. Patrick St',\n",
    "                    'Simcoe St / Wellington St South',\n",
    "                    'Spadina Ave / Fort York Blvd',\n",
    "                    'Ontario Place Blvd / Lakeshore Blvd W',\n",
    "                    '25 York St – Union Station South'\n",
    "                    ]"
   ]
  },
  {
   "cell_type": "code",
   "execution_count": 256,
   "metadata": {},
   "outputs": [],
   "source": [
    "# Q3 2016\n",
    "Q3_2016 = raw_2016_Q3.replace(old_station_names, new_station_names)\n",
    "\n",
    "Q3_2016 = pd.merge(Q3_2016, bikeshare_stations, left_on='from_station_name', \\\n",
    "                   right_on='name', how='left')\n",
    "\n",
    "Q3_2016 = Q3_2016.rename(columns={\"station_id\": \"from_station_id\", \"lat\": \"from_lat\", \"lon\":\"from_lon\"})\n",
    "Q3_2016 = Q3_2016.drop(columns='name', axis = 1)\n",
    "\n",
    "Q3_2016 = pd.merge(Q3_2016, bikeshare_stations, left_on='to_station_name', \\\n",
    "                   right_on='name', how='left')\n",
    "\n",
    "Q3_2016 = Q3_2016.rename(columns={\"station_id\": \"to_station_id\", \"lat\": \"to_lat\", \"lon\":\"to_lon\"})\n",
    "Q3_2016 = Q3_2016.drop(columns='name', axis = 1)"
   ]
  },
  {
   "cell_type": "code",
   "execution_count": 257,
   "metadata": {},
   "outputs": [],
   "source": [
    "# Q4 2016\n",
    "Q4_2016 = raw_2016_Q4.replace(old_station_names, new_station_names)\n",
    "\n",
    "Q4_2016 = pd.merge(Q4_2016, bikeshare_stations, left_on='from_station_name', \\\n",
    "                   right_on='name', how='left')\n",
    "\n",
    "Q4_2016 = Q4_2016.rename(columns={\"station_id\": \"from_station_id\", \"lat\": \"from_lat\", \"lon\":\"from_lon\"})\n",
    "Q4_2016 = Q4_2016.drop(columns='name', axis = 1)\n",
    "\n",
    "Q4_2016 = pd.merge(Q4_2016, bikeshare_stations, left_on='to_station_name', \\\n",
    "                   right_on='name', how='left')\n",
    "\n",
    "Q4_2016 = Q4_2016.rename(columns={\"station_id\": \"to_station_id\", \"lat\": \"to_lat\", \"lon\":\"to_lon\"})\n",
    "Q4_2016 = Q4_2016.drop(columns='name', axis = 1)"
   ]
  },
  {
   "cell_type": "code",
   "execution_count": 258,
   "metadata": {},
   "outputs": [],
   "source": [
    "# 2017\n",
    "Y_2017 = raw_2017.replace(old_station_names, new_station_names)\n",
    "Y_2017 = Y_2017.drop(columns=['from_station_id', 'to_station_id'])\n",
    "\n",
    "Y_2017 = pd.merge(Y_2017, bikeshare_stations, left_on='from_station_name', \\\n",
    "                   right_on='name', how='left')\n",
    "\n",
    "Y_2017 = Y_2017.rename(columns={\"station_id\": \"from_station_id\", \"lat\": \"from_lat\", \"lon\":\"from_lon\"})\n",
    "Y_2017 = Y_2017.drop(columns='name', axis = 1)\n",
    "\n",
    "Y_2017 = pd.merge(Y_2017, bikeshare_stations, left_on='to_station_name', \\\n",
    "                   right_on='name', how='left')\n",
    "\n",
    "Y_2017 = Y_2017.rename(columns={\"station_id\": \"to_station_id\", \"lat\": \"to_lat\", \"lon\":\"to_lon\"})\n",
    "Y_2017 = Y_2017.drop(columns='name', axis = 1)"
   ]
  },
  {
   "cell_type": "markdown",
   "metadata": {},
   "source": [
    "As we can see below, compared to before correcting mismatched station names, the missing precentage has dropped from around 27% to 5%. This we rescued around 22% of the data that could have been dropped if we did not do the manual correction."
   ]
  },
  {
   "cell_type": "code",
   "execution_count": 14,
   "metadata": {},
   "outputs": [
    {
     "data": {
      "text/plain": [
       "0.05735541365762721"
      ]
     },
     "execution_count": 14,
     "metadata": {},
     "output_type": "execute_result"
    }
   ],
   "source": [
    "# 4.25%\n",
    "np.isnan(Q3_2016['from_station_id']).sum() / len(Q3_2016['from_station_id']) \n",
    "\n",
    "# 4.33%\n",
    "np.isnan(Q3_2016['to_station_id']).sum() / len(Q3_2016['to_station_id'])\n",
    "\n",
    "# 5.13%\n",
    "np.isnan(Q4_2016['from_station_id']).sum() / len(Q4_2016['from_station_id']) \n",
    "\n",
    "# 5.04%\n",
    "np.isnan(Q4_2016['to_station_id']).sum() / len(Q4_2016['to_station_id'])\n",
    "\n",
    "# 5.63% \n",
    "np.isnan(Y_2017['from_station_id']).sum() / len(Y_2017['from_station_id']) \n",
    "\n",
    "# 5.74%\n",
    "np.isnan(Y_2017['to_station_id']).sum() / len(Y_2017['to_station_id'])"
   ]
  },
  {
   "cell_type": "code",
   "execution_count": 15,
   "metadata": {},
   "outputs": [
    {
     "data": {
      "text/plain": [
       "trip_id                      0\n",
       "trip_start_time              0\n",
       "trip_stop_time               0\n",
       "trip_duration_seconds        0\n",
       "from_station_name            0\n",
       "to_station_name              0\n",
       "user_type                    0\n",
       "from_station_id          83950\n",
       "from_lat                 83950\n",
       "from_lon                 83950\n",
       "to_station_id            85592\n",
       "to_lat                   85592\n",
       "to_lon                   85592\n",
       "dtype: int64"
      ]
     },
     "execution_count": 15,
     "metadata": {},
     "output_type": "execute_result"
    }
   ],
   "source": [
    "# check how many lines still have NaN values in 2017 table\n",
    "Y_2017.isnull().sum(axis = 0)"
   ]
  },
  {
   "cell_type": "code",
   "execution_count": 259,
   "metadata": {},
   "outputs": [
    {
     "name": "stdout",
     "output_type": "stream",
     "text": [
      "The cleaned aggregate ridership data has 1792853 lines\n"
     ]
    }
   ],
   "source": [
    "Q3_2016 = Q3_2016.dropna()\n",
    "Q4_2016 = Q4_2016.dropna()\n",
    "Y_2017 = Y_2017.dropna()\n",
    "ridership = pd.concat([Q3_2016, Q4_2016, Y_2017])\n",
    "\n",
    "ridership.to_csv('./data/bikeshare-ridership-2016q3q4-2017-clean.csv', index=False)\n",
    "\n",
    "print('The cleaned aggregate ridership data has %s lines' % str(len(ridership)))\n"
   ]
  },
  {
   "cell_type": "code",
   "execution_count": 565,
   "metadata": {},
   "outputs": [],
   "source": [
    "# Read tables from the data folder if clearning has been done\n",
    "ridership = pd.read_csv('./data/bikeshare-ridership-2016q3q4-2017-clean.csv')"
   ]
  },
  {
   "cell_type": "markdown",
   "metadata": {},
   "source": [
    "## Download, Process and Store Weather "
   ]
  },
  {
   "cell_type": "code",
   "execution_count": null,
   "metadata": {},
   "outputs": [],
   "source": [
    "# Weather data\n",
    "weather = pd.DataFrame()\n",
    "weather_list = []\n",
    "base_url = 'http://climate.weather.gc.ca/climate_data/daily_data_e.html?'\n",
    "newcolnames = {'DAY' : 'Date','Mean Temp Definition' + chr(176) +'C': 'Mean_Temp', \n",
    "                   'Total Precip Definitionmm' :'Total_Precip'}\n",
    "mon_list = ['01', '02', '03', '04', '05', '06', '07', '08', '09', '10', '11', '12']\n",
    "\n",
    "# 2016\n",
    "for i in range(6, 13):\n",
    "    query_url = 'StationID=51459&timeframe=2&StartYear=1840&EndYear=2019&Day=22&Year=2016&Month=' + str(i) + '#'\n",
    "    tmp_weather_df = pd.read_html(base_url + query_url)\n",
    "    if i in ['1', '3', '5', '7', '8', '10', '12']:\n",
    "        end_id = 31\n",
    "    elif i == 2:\n",
    "        end_id = 28\n",
    "    else:\n",
    "        end_id = 30\n",
    "    tmp_weather_df = tmp_weather_df[0][0:end_id]\n",
    "    # rename columns\n",
    "    tmp_weather_df.rename(columns = newcolnames, inplace = True)\n",
    "    # replace trace rain values with 0\n",
    "    tmp_weather_df = tmp_weather_df[['Date', 'Mean_Temp', 'Total_Precip']].replace('LegendTT', 0)\n",
    "    weather_list.append(tmp_weather_df)\n",
    "\n",
    "# format date column\n",
    "year_16 = '2016'\n",
    "for m in range(6):\n",
    "    # create date that can be merged with ridership data\n",
    "    weather_list[m]['Date'] = year_16 + '-' + mon_list[m+6] + '-' + weather_list[m]['Date']\n",
    "    weather = pd.concat([weather, weather_list[m]], sort=False).reset_index(drop=True)\n",
    "    \n",
    "# 2017 \n",
    "weather_list = []\n",
    "for i in range(1, 13):\n",
    "    query_url = 'StationID=51459&timeframe=2&StartYear=1840&EndYear=2019&Day=22&Year=2017&Month=' + str(i) + '#'\n",
    "    tmp_weather_df = pd.read_html(base_url + query_url)\n",
    "    if i in ['1', '3', '5', '7', '8', '10', '12']:\n",
    "        end_id = 31\n",
    "    elif i == 2:\n",
    "        end_id = 28\n",
    "    else:\n",
    "        end_id = 30\n",
    "    tmp_weather_df = tmp_weather_df[0][0:end_id]\n",
    "    # rename columns\n",
    "    tmp_weather_df.rename(columns = newcolnames, inplace = True)\n",
    "    # replace trace rain values with 0\n",
    "    tmp_weather_df = tmp_weather_df[['Date', 'Mean_Temp', 'Total_Precip']].replace('LegendTT', 0)\n",
    "    weather_list.append(tmp_weather_df)\n",
    "\n",
    "# format date column\n",
    "year_17 = '2017'\n",
    "for m in range(12):\n",
    "    # create date that can be merged with ridership data\n",
    "    weather_list[m]['Date'] = year_17 + '-' + mon_list[m] + '-' + weather_list[m]['Date']\n",
    "    weather = pd.concat([weather, weather_list[m]], sort=False).reset_index(drop=True)"
   ]
  },
  {
   "cell_type": "code",
   "execution_count": 490,
   "metadata": {},
   "outputs": [
    {
     "data": {
      "text/html": [
       "<div>\n",
       "<style scoped>\n",
       "    .dataframe tbody tr th:only-of-type {\n",
       "        vertical-align: middle;\n",
       "    }\n",
       "\n",
       "    .dataframe tbody tr th {\n",
       "        vertical-align: top;\n",
       "    }\n",
       "\n",
       "    .dataframe thead th {\n",
       "        text-align: right;\n",
       "    }\n",
       "</style>\n",
       "<table border=\"1\" class=\"dataframe\">\n",
       "  <thead>\n",
       "    <tr style=\"text-align: right;\">\n",
       "      <th></th>\n",
       "      <th>Date</th>\n",
       "      <th>Mean_Temp</th>\n",
       "      <th>Total_Precip</th>\n",
       "    </tr>\n",
       "  </thead>\n",
       "  <tbody>\n",
       "    <tr>\n",
       "      <td>0</td>\n",
       "      <td>2016-07-01</td>\n",
       "      <td>16.2</td>\n",
       "      <td>0.0</td>\n",
       "    </tr>\n",
       "    <tr>\n",
       "      <td>1</td>\n",
       "      <td>2016-07-02</td>\n",
       "      <td>23.3</td>\n",
       "      <td>0.2</td>\n",
       "    </tr>\n",
       "    <tr>\n",
       "      <td>2</td>\n",
       "      <td>2016-07-03</td>\n",
       "      <td>20.3</td>\n",
       "      <td>0.0</td>\n",
       "    </tr>\n",
       "    <tr>\n",
       "      <td>3</td>\n",
       "      <td>2016-07-04</td>\n",
       "      <td>20.3</td>\n",
       "      <td>5.4</td>\n",
       "    </tr>\n",
       "    <tr>\n",
       "      <td>4</td>\n",
       "      <td>2016-07-05</td>\n",
       "      <td>20.6</td>\n",
       "      <td>5.8</td>\n",
       "    </tr>\n",
       "  </tbody>\n",
       "</table>\n",
       "</div>"
      ],
      "text/plain": [
       "        Date Mean_Temp  Total_Precip\n",
       "0 2016-07-01      16.2           0.0\n",
       "1 2016-07-02      23.3           0.2\n",
       "2 2016-07-03      20.3           0.0\n",
       "3 2016-07-04      20.3           5.4\n",
       "4 2016-07-05      20.6           5.8"
      ]
     },
     "execution_count": 490,
     "metadata": {},
     "output_type": "execute_result"
    }
   ],
   "source": [
    "# replace trace rain values with 0 and adjust format for specific values properly\n",
    "weather = weather[['Date', 'Mean_Temp', 'Total_Precip']].replace({'LegendTT':0, 'LegendMM':0, '20.7LegendEE':20.7, '15.6LegendEE':15.6, '0.0LegendEE':0})\n",
    "\n",
    "weather.head()"
   ]
  },
  {
   "cell_type": "code",
   "execution_count": 492,
   "metadata": {},
   "outputs": [],
   "source": [
    "# save table\n",
    "weather.to_csv('./data/weather.csv', index=False)"
   ]
  },
  {
   "cell_type": "code",
   "execution_count": 493,
   "metadata": {},
   "outputs": [],
   "source": [
    "# Read tables from the data folder if initial download has been done\n",
    "weather = pd.read_csv('./data/weather.csv')"
   ]
  },
  {
   "cell_type": "markdown",
   "metadata": {},
   "source": [
    "## Merge weather data with ridership data"
   ]
  },
  {
   "cell_type": "code",
   "execution_count": 494,
   "metadata": {},
   "outputs": [],
   "source": [
    "ridership_weather = ridership\n",
    "ridership_weather['trip_start_date'] = pd.to_datetime(pd.to_datetime(ridership['trip_start_time']).dt.date)\n",
    "weather['Date'] = pd.to_datetime(weather['Date'])\n",
    "ridership_weather = pd.merge(ridership_weather, weather, left_on='trip_start_date', \n",
    "                             right_on='Date', how='left')\n",
    "ridership_weather = ridership_weather.drop(columns = ['trip_start_date', 'Date'])\n",
    "ridership_weather = ridership_weather.dropna()\n",
    "ridership = ridership.drop(columns = 'trip_start_date')\n"
   ]
  },
  {
   "cell_type": "markdown",
   "metadata": {},
   "source": [
    "## Create Trip Distance Measure"
   ]
  },
  {
   "cell_type": "markdown",
   "metadata": {},
   "source": [
    "We use geodesic distance to approximate actual trip route distance."
   ]
  },
  {
   "cell_type": "code",
   "execution_count": 568,
   "metadata": {},
   "outputs": [],
   "source": [
    "from_lat = ridership['from_lat'].values\n",
    "from_lon = ridership['from_lon'].values\n",
    "to_lat = ridership['to_lat'].values\n",
    "to_lon = ridership['to_lon'].values\n",
    "\n",
    "from_coordinates = list(zip(from_lat, from_lon))\n",
    "to_coordinates = list(zip(to_lat, to_lon))\n",
    "\n",
    "distances = []\n",
    "# for loop takes around 6-7 minutes\n",
    "for i in range(len(to_coordinates)):\n",
    "    distances.append(geodesic(from_coordinates[i], to_coordinates[i]).meters)\n",
    "ridership['distance'] = distances"
   ]
  },
  {
   "cell_type": "code",
   "execution_count": 571,
   "metadata": {},
   "outputs": [],
   "source": [
    "# add distance to ridership_weather (ridership, weather, distance -> rwd)\n",
    "rwd = pd.merge(ridership_weather, ridership[['trip_id', 'distance']], left_on='trip_id', \\\n",
    "                   right_on='trip_id', how='left')\n",
    "rwd['distance'] = rwd['distance_x']\n",
    "rwd = rwd.drop(columns=['distance_x', 'distance_y'], axis = 1)"
   ]
  },
  {
   "cell_type": "code",
   "execution_count": 572,
   "metadata": {},
   "outputs": [
    {
     "data": {
      "text/html": [
       "<div>\n",
       "<style scoped>\n",
       "    .dataframe tbody tr th:only-of-type {\n",
       "        vertical-align: middle;\n",
       "    }\n",
       "\n",
       "    .dataframe tbody tr th {\n",
       "        vertical-align: top;\n",
       "    }\n",
       "\n",
       "    .dataframe thead th {\n",
       "        text-align: right;\n",
       "    }\n",
       "</style>\n",
       "<table border=\"1\" class=\"dataframe\">\n",
       "  <thead>\n",
       "    <tr style=\"text-align: right;\">\n",
       "      <th></th>\n",
       "      <th>trip_id</th>\n",
       "      <th>trip_start_time</th>\n",
       "      <th>trip_stop_time</th>\n",
       "      <th>trip_duration_seconds</th>\n",
       "      <th>from_station_name</th>\n",
       "      <th>to_station_name</th>\n",
       "      <th>user_type</th>\n",
       "      <th>from_station_id</th>\n",
       "      <th>from_lat</th>\n",
       "      <th>from_lon</th>\n",
       "      <th>to_station_id</th>\n",
       "      <th>to_lat</th>\n",
       "      <th>to_lon</th>\n",
       "      <th>Mean_Temp</th>\n",
       "      <th>Total_Precip</th>\n",
       "      <th>distance</th>\n",
       "    </tr>\n",
       "  </thead>\n",
       "  <tbody>\n",
       "    <tr>\n",
       "      <td>0</td>\n",
       "      <td>53279</td>\n",
       "      <td>2016-07-08 21:03:00</td>\n",
       "      <td>2016-07-08 21:15:00</td>\n",
       "      <td>714</td>\n",
       "      <td>Dundas St E / Regent Park Blvd</td>\n",
       "      <td>Danforth Ave / Ellerbeck St</td>\n",
       "      <td>Member</td>\n",
       "      <td>7100.0</td>\n",
       "      <td>43.660207</td>\n",
       "      <td>-79.361275</td>\n",
       "      <td>7095.0</td>\n",
       "      <td>43.677076</td>\n",
       "      <td>-79.356670</td>\n",
       "      <td>10.9</td>\n",
       "      <td>0.0</td>\n",
       "      <td>1910.687075</td>\n",
       "    </tr>\n",
       "    <tr>\n",
       "      <td>1</td>\n",
       "      <td>53394</td>\n",
       "      <td>2016-07-08 22:15:00</td>\n",
       "      <td>2016-07-08 22:22:00</td>\n",
       "      <td>417</td>\n",
       "      <td>Riverdale Park North (Broadview Ave)</td>\n",
       "      <td>Dundas St E / Regent Park Blvd</td>\n",
       "      <td>Member</td>\n",
       "      <td>7097.0</td>\n",
       "      <td>43.671172</td>\n",
       "      <td>-79.354704</td>\n",
       "      <td>7100.0</td>\n",
       "      <td>43.660207</td>\n",
       "      <td>-79.361275</td>\n",
       "      <td>10.9</td>\n",
       "      <td>0.0</td>\n",
       "      <td>1328.561727</td>\n",
       "    </tr>\n",
       "    <tr>\n",
       "      <td>2</td>\n",
       "      <td>58314</td>\n",
       "      <td>2016-07-10 13:04:00</td>\n",
       "      <td>2016-07-10 13:36:00</td>\n",
       "      <td>1904</td>\n",
       "      <td>Dundas St E / Regent Park Blvd</td>\n",
       "      <td>Queen St W / Close Ave</td>\n",
       "      <td>Member</td>\n",
       "      <td>7100.0</td>\n",
       "      <td>43.660207</td>\n",
       "      <td>-79.361275</td>\n",
       "      <td>7136.0</td>\n",
       "      <td>43.640634</td>\n",
       "      <td>-79.435841</td>\n",
       "      <td>15.7</td>\n",
       "      <td>0.0</td>\n",
       "      <td>6396.664210</td>\n",
       "    </tr>\n",
       "    <tr>\n",
       "      <td>3</td>\n",
       "      <td>60784</td>\n",
       "      <td>2016-07-10 21:45:00</td>\n",
       "      <td>2016-07-10 21:58:00</td>\n",
       "      <td>784</td>\n",
       "      <td>Union Station</td>\n",
       "      <td>Dundas St E / Regent Park Blvd</td>\n",
       "      <td>Member</td>\n",
       "      <td>7033.0</td>\n",
       "      <td>43.645609</td>\n",
       "      <td>-79.380386</td>\n",
       "      <td>7100.0</td>\n",
       "      <td>43.660207</td>\n",
       "      <td>-79.361275</td>\n",
       "      <td>15.7</td>\n",
       "      <td>0.0</td>\n",
       "      <td>2237.753837</td>\n",
       "    </tr>\n",
       "    <tr>\n",
       "      <td>4</td>\n",
       "      <td>93164</td>\n",
       "      <td>2016-07-18 09:35:00</td>\n",
       "      <td>2016-07-18 09:42:00</td>\n",
       "      <td>443</td>\n",
       "      <td>Front St W / Blue Jays Way</td>\n",
       "      <td>Front St W / Yonge St (Hockey Hall of Fame)</td>\n",
       "      <td>Member</td>\n",
       "      <td>7059.0</td>\n",
       "      <td>43.643473</td>\n",
       "      <td>-79.390477</td>\n",
       "      <td>7048.0</td>\n",
       "      <td>43.646144</td>\n",
       "      <td>-79.377962</td>\n",
       "      <td>24.3</td>\n",
       "      <td>0.0</td>\n",
       "      <td>1052.455050</td>\n",
       "    </tr>\n",
       "  </tbody>\n",
       "</table>\n",
       "</div>"
      ],
      "text/plain": [
       "   trip_id      trip_start_time       trip_stop_time  trip_duration_seconds  \\\n",
       "0    53279  2016-07-08 21:03:00  2016-07-08 21:15:00                    714   \n",
       "1    53394  2016-07-08 22:15:00  2016-07-08 22:22:00                    417   \n",
       "2    58314  2016-07-10 13:04:00  2016-07-10 13:36:00                   1904   \n",
       "3    60784  2016-07-10 21:45:00  2016-07-10 21:58:00                    784   \n",
       "4    93164  2016-07-18 09:35:00  2016-07-18 09:42:00                    443   \n",
       "\n",
       "                      from_station_name  \\\n",
       "0        Dundas St E / Regent Park Blvd   \n",
       "1  Riverdale Park North (Broadview Ave)   \n",
       "2        Dundas St E / Regent Park Blvd   \n",
       "3                         Union Station   \n",
       "4            Front St W / Blue Jays Way   \n",
       "\n",
       "                               to_station_name user_type  from_station_id  \\\n",
       "0                  Danforth Ave / Ellerbeck St    Member           7100.0   \n",
       "1               Dundas St E / Regent Park Blvd    Member           7097.0   \n",
       "2                       Queen St W / Close Ave    Member           7100.0   \n",
       "3               Dundas St E / Regent Park Blvd    Member           7033.0   \n",
       "4  Front St W / Yonge St (Hockey Hall of Fame)    Member           7059.0   \n",
       "\n",
       "    from_lat   from_lon  to_station_id     to_lat     to_lon  Mean_Temp  \\\n",
       "0  43.660207 -79.361275         7095.0  43.677076 -79.356670       10.9   \n",
       "1  43.671172 -79.354704         7100.0  43.660207 -79.361275       10.9   \n",
       "2  43.660207 -79.361275         7136.0  43.640634 -79.435841       15.7   \n",
       "3  43.645609 -79.380386         7100.0  43.660207 -79.361275       15.7   \n",
       "4  43.643473 -79.390477         7048.0  43.646144 -79.377962       24.3   \n",
       "\n",
       "   Total_Precip     distance  \n",
       "0           0.0  1910.687075  \n",
       "1           0.0  1328.561727  \n",
       "2           0.0  6396.664210  \n",
       "3           0.0  2237.753837  \n",
       "4           0.0  1052.455050  "
      ]
     },
     "execution_count": 572,
     "metadata": {},
     "output_type": "execute_result"
    }
   ],
   "source": [
    "# final dataset\n",
    "rwd.head()"
   ]
  },
  {
   "cell_type": "markdown",
   "metadata": {},
   "source": [
    "### Create RWD (ridership, weather and distance) dataset for analysis"
   ]
  },
  {
   "cell_type": "code",
   "execution_count": 573,
   "metadata": {},
   "outputs": [],
   "source": [
    "# save file\n",
    "rwd.to_csv('./data/ridership-weather-distance.csv', index=False)"
   ]
  },
  {
   "cell_type": "markdown",
   "metadata": {},
   "source": [
    "# Question 1: Do casual users take shorter trips compared to members?\n",
    "\n",
    "The variables needed to answer this question is trip_duration_seconds, which we will turn into minutes for better visualization, as well as distance created from the previous secton. We compare these in both the Member and Casual user groups.\n",
    "\n",
    "Intuitively, we expect the memebers to spend less time and travels a shorter distance on their bikes. This is because they are more familiar with the system and they know excactly where they are going. On the other hand, casual members are mostly tourists to the city and they will wander around the city more. As a member myself, I often see tourists spend more time adjusting their bikes and figure out how the system work.\n",
    "\n",
    "Let's see if the data would tell us this as well."
   ]
  },
  {
   "cell_type": "code",
   "execution_count": 484,
   "metadata": {},
   "outputs": [],
   "source": [
    "# read dataset\n",
    "rwd = pd.read_csv('./data/ridership-weather-distance.csv')"
   ]
  },
  {
   "cell_type": "markdown",
   "metadata": {},
   "source": [
    "## 1.1 Visualizing duration and distance by user group"
   ]
  },
  {
   "cell_type": "code",
   "execution_count": 575,
   "metadata": {},
   "outputs": [],
   "source": [
    "import warnings\n",
    "warnings.filterwarnings('ignore')\n",
    "\n",
    "# filter data with trip durations less than 3 hours (10800 seconds)\n",
    "ridership_trim = rwd[rwd['trip_duration_seconds'] <= 10800]\n",
    "ridership_trim['trip_duration_minutes'] = ridership_trim['trip_duration_seconds'].divide(60)\n"
   ]
  },
  {
   "cell_type": "markdown",
   "metadata": {},
   "source": [
    "## Scatterplot"
   ]
  },
  {
   "cell_type": "code",
   "execution_count": 310,
   "metadata": {},
   "outputs": [
    {
     "data": {
      "text/plain": [
       "<matplotlib.axes._subplots.AxesSubplot at 0x1aa618be10>"
      ]
     },
     "execution_count": 310,
     "metadata": {},
     "output_type": "execute_result"
    },
    {
     "data": {
      "image/png": "[encoded data removed]",
      "text/plain": [
       "<Figure size 432x288 with 1 Axes>"
      ]
     },
     "metadata": {
      "needs_background": "light"
     },
     "output_type": "display_data"
    }
   ],
   "source": [
    "# takes 6 minutes to plot all the data points\n",
    "sns.scatterplot(x=\"trip_duration_seconds\", y=\"distance\", \\\n",
    "                hue=\"user_type\", data=ridership_trim, s=10)\n"
   ]
  },
  {
   "cell_type": "markdown",
   "metadata": {},
   "source": [
    "As we can see from the above plot, there are more blue dots representing member riders on the left and bottom end of the plot. This means that they spend less time on their bikes and travel shorter distances. Members normally do not wander around the city and know exactly where they are heading so this makes sense."
   ]
  },
  {
   "cell_type": "markdown",
   "metadata": {},
   "source": [
    "## Histograms and Boxplots"
   ]
  },
  {
   "cell_type": "code",
   "execution_count": 576,
   "metadata": {},
   "outputs": [
    {
     "data": {
      "text/plain": [
       "Text(0, 0.5, 'count')"
      ]
     },
     "execution_count": 576,
     "metadata": {},
     "output_type": "execute_result"
    },
    {
     "data": {
      "image/png": "[encoded data removed]",
      "text/plain": [
       "<Figure size 432x288 with 1 Axes>"
      ]
     },
     "metadata": {
      "needs_background": "light"
     },
     "output_type": "display_data"
    }
   ],
   "source": [
    "num_bins = 50\n",
    "member_ridership = ridership_trim[ridership_trim['user_type'] == 'Member']\n",
    "casual_ridership = ridership_trim[ridership_trim['user_type'] == 'Casual']\n",
    "sns.distplot(member_ridership['distance'], bins = num_bins, kde=False, label='Member')\n",
    "sns.distplot(casual_ridership['distance'], bins = num_bins, kde=False, label='Casual')\n",
    "\n",
    "# plot formatting\n",
    "plt.legend(prop={'size': 12})\n",
    "plt.title('Histogram of trip distance between two rider types')\n",
    "plt.xlabel('trip distance in meters')\n",
    "plt.ylabel('count')"
   ]
  },
  {
   "cell_type": "code",
   "execution_count": 577,
   "metadata": {},
   "outputs": [
    {
     "data": {
      "text/plain": [
       "Text(0, 0.5, 'count')"
      ]
     },
     "execution_count": 577,
     "metadata": {},
     "output_type": "execute_result"
    },
    {
     "data": {
      "image/png": "[encoded data removed]",
      "text/plain": [
       "<Figure size 432x288 with 1 Axes>"
      ]
     },
     "metadata": {
      "needs_background": "light"
     },
     "output_type": "display_data"
    }
   ],
   "source": [
    "sns.distplot(member_ridership['trip_duration_minutes'], bins = num_bins, kde=False, label='Member')\n",
    "sns.distplot(casual_ridership['trip_duration_minutes'], bins = num_bins, kde=False, label='Casual')\n",
    "\n",
    "# plot formatting\n",
    "plt.legend(prop={'size': 12})\n",
    "plt.title('Histogram of trip duration between two rider types')\n",
    "plt.xlabel('trip duration in minutes')\n",
    "plt.ylabel('count')"
   ]
  },
  {
   "cell_type": "code",
   "execution_count": 391,
   "metadata": {},
   "outputs": [
    {
     "data": {
      "text/plain": [
       "<matplotlib.axes._subplots.AxesSubplot at 0x1a4d3fdf98>"
      ]
     },
     "execution_count": 391,
     "metadata": {},
     "output_type": "execute_result"
    },
    {
     "data": {
      "image/png": "[encoded data removed]",
      "text/plain": [
       "<Figure size 432x288 with 1 Axes>"
      ]
     },
     "metadata": {
      "needs_background": "light"
     },
     "output_type": "display_data"
    }
   ],
   "source": [
    "sns.boxplot(data=ridership_trim, x='user_type', y='distance', showfliers=False)"
   ]
  },
  {
   "cell_type": "code",
   "execution_count": 392,
   "metadata": {},
   "outputs": [
    {
     "data": {
      "text/plain": [
       "<matplotlib.axes._subplots.AxesSubplot at 0x1aefd730b8>"
      ]
     },
     "execution_count": 392,
     "metadata": {},
     "output_type": "execute_result"
    },
    {
     "data": {
      "image/png": "[encoded data removed]",
      "text/plain": [
       "<Figure size 432x288 with 1 Axes>"
      ]
     },
     "metadata": {
      "needs_background": "light"
     },
     "output_type": "display_data"
    }
   ],
   "source": [
    "sns.boxplot(data=ridership_trim, x='user_type', y='trip_duration_minutes', showfliers=False)"
   ]
  },
  {
   "cell_type": "markdown",
   "metadata": {},
   "source": [
    "From the histograms for trip durations and trip distances between the two rider groups, we see that there are more member trips than casual trips overall. Casual riders spend longer time on their bikes than members. This makes sense because the majority of casual riders are visitors to the city. In terms of distance traveled, the means are similar, but the number of trips made by members drops drastically when trip distances are longer, indicating a pattern towards shorter trips for members. On the other hand, the casual members have a relatively even distribution for both trip distance and trip duration."
   ]
  },
  {
   "cell_type": "markdown",
   "metadata": {},
   "source": [
    "To analyze the data more easily, we take daily averages of duration, distance, precipitation, temperature for members and casual users. This also roughly enforces an independence assumption on our data points."
   ]
  },
  {
   "cell_type": "code",
   "execution_count": 578,
   "metadata": {},
   "outputs": [
    {
     "data": {
      "text/html": [
       "<div>\n",
       "<style scoped>\n",
       "    .dataframe tbody tr th:only-of-type {\n",
       "        vertical-align: middle;\n",
       "    }\n",
       "\n",
       "    .dataframe tbody tr th {\n",
       "        vertical-align: top;\n",
       "    }\n",
       "\n",
       "    .dataframe thead th {\n",
       "        text-align: right;\n",
       "    }\n",
       "</style>\n",
       "<table border=\"1\" class=\"dataframe\">\n",
       "  <thead>\n",
       "    <tr style=\"text-align: right;\">\n",
       "      <th></th>\n",
       "      <th>index</th>\n",
       "      <th>dur</th>\n",
       "      <th>precip</th>\n",
       "      <th>temp</th>\n",
       "      <th>dist</th>\n",
       "      <th>user_type</th>\n",
       "      <th>log_dur</th>\n",
       "      <th>log_precip</th>\n",
       "    </tr>\n",
       "  </thead>\n",
       "  <tbody>\n",
       "    <tr>\n",
       "      <td>0</td>\n",
       "      <td>0</td>\n",
       "      <td>2090.371429</td>\n",
       "      <td>0.0</td>\n",
       "      <td>-0.4</td>\n",
       "      <td>1812.264906</td>\n",
       "      <td>Casual</td>\n",
       "      <td>7.645097</td>\n",
       "      <td>0.000000</td>\n",
       "    </tr>\n",
       "    <tr>\n",
       "      <td>1</td>\n",
       "      <td>1</td>\n",
       "      <td>673.383202</td>\n",
       "      <td>0.0</td>\n",
       "      <td>-0.4</td>\n",
       "      <td>1530.674585</td>\n",
       "      <td>Member</td>\n",
       "      <td>6.512315</td>\n",
       "      <td>0.000000</td>\n",
       "    </tr>\n",
       "    <tr>\n",
       "      <td>2</td>\n",
       "      <td>2</td>\n",
       "      <td>1727.682927</td>\n",
       "      <td>0.0</td>\n",
       "      <td>0.4</td>\n",
       "      <td>1456.394787</td>\n",
       "      <td>Casual</td>\n",
       "      <td>7.454536</td>\n",
       "      <td>0.000000</td>\n",
       "    </tr>\n",
       "    <tr>\n",
       "      <td>3</td>\n",
       "      <td>3</td>\n",
       "      <td>611.091703</td>\n",
       "      <td>0.0</td>\n",
       "      <td>0.4</td>\n",
       "      <td>1492.437213</td>\n",
       "      <td>Member</td>\n",
       "      <td>6.415247</td>\n",
       "      <td>0.000000</td>\n",
       "    </tr>\n",
       "    <tr>\n",
       "      <td>4</td>\n",
       "      <td>4</td>\n",
       "      <td>919.500000</td>\n",
       "      <td>15.8</td>\n",
       "      <td>3.1</td>\n",
       "      <td>1348.223462</td>\n",
       "      <td>Casual</td>\n",
       "      <td>6.823830</td>\n",
       "      <td>2.821379</td>\n",
       "    </tr>\n",
       "  </tbody>\n",
       "</table>\n",
       "</div>"
      ],
      "text/plain": [
       "   index          dur  precip  temp         dist user_type   log_dur  \\\n",
       "0      0  2090.371429     0.0  -0.4  1812.264906    Casual  7.645097   \n",
       "1      1   673.383202     0.0  -0.4  1530.674585    Member  6.512315   \n",
       "2      2  1727.682927     0.0   0.4  1456.394787    Casual  7.454536   \n",
       "3      3   611.091703     0.0   0.4  1492.437213    Member  6.415247   \n",
       "4      4   919.500000    15.8   3.1  1348.223462    Casual  6.823830   \n",
       "\n",
       "   log_precip  \n",
       "0    0.000000  \n",
       "1    0.000000  \n",
       "2    0.000000  \n",
       "3    0.000000  \n",
       "4    2.821379  "
      ]
     },
     "execution_count": 578,
     "metadata": {},
     "output_type": "execute_result"
    }
   ],
   "source": [
    "# format columns\n",
    "rwd['trip_start_time'] = pd.to_datetime(rwd['trip_start_time'])\n",
    "rwd['Total_Precip'] = pd.to_numeric(rwd['Total_Precip'])\n",
    "rwd['Mean_Temp'] = pd.to_numeric(rwd['Mean_Temp'])\n",
    "\n",
    "# remove outlier trips greater than three hours\n",
    "rwd = rwd[rwd['trip_duration_seconds'] <= 10800]\n",
    "\n",
    "# generate seperate time measurements\n",
    "rwd['Day'] = rwd['trip_start_time'].dt.day\n",
    "rwd['Month'] = rwd['trip_start_time'].dt.month\n",
    "rwd['start_hr'] = rwd['trip_start_time'].dt.hour\n",
    "rwd['start_min'] = rwd['trip_start_time'].dt.minute\n",
    "\n",
    "mean_by_day = rwd.groupby(['Month','Day', 'user_type'], as_index=False).mean()\n",
    "\n",
    "Y = mean_by_day['trip_duration_seconds']\n",
    "Z = mean_by_day['distance']\n",
    "X = mean_by_day['Total_Precip']\n",
    "X1 = mean_by_day['Mean_Temp']\n",
    "T = mean_by_day['user_type']\n",
    "\n",
    "df = pd.DataFrame({'dur': Y, 'precip': X, 'temp':X1, 'dist': Z, 'user_type': T})\n",
    "df['log_dur']=df['dur'].transform(lambda x: np.log(x))\n",
    "df['log_precip']=df['precip'].transform(lambda x: np.log(x+1))\n",
    "df.reset_index(inplace=True)"
   ]
  },
  {
   "cell_type": "code",
   "execution_count": 579,
   "metadata": {},
   "outputs": [
    {
     "data": {
      "text/html": [
       "<div>\n",
       "<style scoped>\n",
       "    .dataframe tbody tr th:only-of-type {\n",
       "        vertical-align: middle;\n",
       "    }\n",
       "\n",
       "    .dataframe tbody tr th {\n",
       "        vertical-align: top;\n",
       "    }\n",
       "\n",
       "    .dataframe thead th {\n",
       "        text-align: right;\n",
       "    }\n",
       "</style>\n",
       "<table border=\"1\" class=\"dataframe\">\n",
       "  <thead>\n",
       "    <tr style=\"text-align: right;\">\n",
       "      <th></th>\n",
       "      <th>index</th>\n",
       "      <th>dur</th>\n",
       "      <th>precip</th>\n",
       "      <th>temp</th>\n",
       "      <th>dist</th>\n",
       "      <th>user_type</th>\n",
       "      <th>log_dur</th>\n",
       "      <th>log_precip</th>\n",
       "    </tr>\n",
       "  </thead>\n",
       "  <tbody>\n",
       "    <tr>\n",
       "      <td>0</td>\n",
       "      <td>0</td>\n",
       "      <td>2090.371429</td>\n",
       "      <td>0.0</td>\n",
       "      <td>-0.4</td>\n",
       "      <td>1812.264906</td>\n",
       "      <td>Casual</td>\n",
       "      <td>7.645097</td>\n",
       "      <td>0.000000</td>\n",
       "    </tr>\n",
       "    <tr>\n",
       "      <td>1</td>\n",
       "      <td>1</td>\n",
       "      <td>673.383202</td>\n",
       "      <td>0.0</td>\n",
       "      <td>-0.4</td>\n",
       "      <td>1530.674585</td>\n",
       "      <td>Member</td>\n",
       "      <td>6.512315</td>\n",
       "      <td>0.000000</td>\n",
       "    </tr>\n",
       "    <tr>\n",
       "      <td>2</td>\n",
       "      <td>2</td>\n",
       "      <td>1727.682927</td>\n",
       "      <td>0.0</td>\n",
       "      <td>0.4</td>\n",
       "      <td>1456.394787</td>\n",
       "      <td>Casual</td>\n",
       "      <td>7.454536</td>\n",
       "      <td>0.000000</td>\n",
       "    </tr>\n",
       "    <tr>\n",
       "      <td>3</td>\n",
       "      <td>3</td>\n",
       "      <td>611.091703</td>\n",
       "      <td>0.0</td>\n",
       "      <td>0.4</td>\n",
       "      <td>1492.437213</td>\n",
       "      <td>Member</td>\n",
       "      <td>6.415247</td>\n",
       "      <td>0.000000</td>\n",
       "    </tr>\n",
       "    <tr>\n",
       "      <td>4</td>\n",
       "      <td>4</td>\n",
       "      <td>919.500000</td>\n",
       "      <td>15.8</td>\n",
       "      <td>3.1</td>\n",
       "      <td>1348.223462</td>\n",
       "      <td>Casual</td>\n",
       "      <td>6.823830</td>\n",
       "      <td>2.821379</td>\n",
       "    </tr>\n",
       "  </tbody>\n",
       "</table>\n",
       "</div>"
      ],
      "text/plain": [
       "   index          dur  precip  temp         dist user_type   log_dur  \\\n",
       "0      0  2090.371429     0.0  -0.4  1812.264906    Casual  7.645097   \n",
       "1      1   673.383202     0.0  -0.4  1530.674585    Member  6.512315   \n",
       "2      2  1727.682927     0.0   0.4  1456.394787    Casual  7.454536   \n",
       "3      3   611.091703     0.0   0.4  1492.437213    Member  6.415247   \n",
       "4      4   919.500000    15.8   3.1  1348.223462    Casual  6.823830   \n",
       "\n",
       "   log_precip  \n",
       "0    0.000000  \n",
       "1    0.000000  \n",
       "2    0.000000  \n",
       "3    0.000000  \n",
       "4    2.821379  "
      ]
     },
     "execution_count": 579,
     "metadata": {},
     "output_type": "execute_result"
    }
   ],
   "source": [
    "# remove outlier trips greater than three hours\n",
    "rwd = rwd[rwd['trip_duration_seconds'] <= 10800]\n",
    "\n",
    "# generate seperate time measurements\n",
    "rwd['Day'] = rwd['trip_start_time'].dt.day\n",
    "rwd['Month'] = rwd['trip_start_time'].dt.month\n",
    "rwd['start_hr'] = rwd['trip_start_time'].dt.hour\n",
    "rwd['start_min'] = rwd['trip_start_time'].dt.minute\n",
    "\n",
    "mean_by_day = rwd.groupby(['Month','Day', 'user_type'], as_index=False).mean()\n",
    "\n",
    "Y = mean_by_day['trip_duration_seconds']\n",
    "Z = mean_by_day['distance']\n",
    "X = mean_by_day['Total_Precip']\n",
    "X1 = mean_by_day['Mean_Temp']\n",
    "T = mean_by_day['user_type']\n",
    "\n",
    "\n",
    "df = pd.DataFrame({'dur': Y, 'precip': X, 'temp':X1, 'dist': Z, 'user_type': T})\n",
    "df['log_dur']=df['dur'].transform(lambda x: np.log(x))\n",
    "df['log_precip']=df['precip'].transform(lambda x: np.log(x+1))\n",
    "df.reset_index(inplace=True)\n",
    "df.head()"
   ]
  },
  {
   "cell_type": "markdown",
   "metadata": {},
   "source": [
    "### Scatterplot of Duration vs Distance with Everyday Average"
   ]
  },
  {
   "cell_type": "markdown",
   "metadata": {},
   "source": [
    "Let us look at a scatterplot again with the daily average values of durations and distances."
   ]
  },
  {
   "cell_type": "code",
   "execution_count": 661,
   "metadata": {},
   "outputs": [
    {
     "data": {
      "text/plain": [
       "<matplotlib.axes._subplots.AxesSubplot at 0x1a1f587780>"
      ]
     },
     "execution_count": 661,
     "metadata": {},
     "output_type": "execute_result"
    },
    {
     "data": {
      "image/png": "[encoded data removed]",
      "text/plain": [
       "<Figure size 432x288 with 1 Axes>"
      ]
     },
     "metadata": {
      "needs_background": "light"
     },
     "output_type": "display_data"
    }
   ],
   "source": [
    "sns.scatterplot(y = 'dur', x = 'dist', hue = 'user_type', data = df)"
   ]
  },
  {
   "cell_type": "markdown",
   "metadata": {},
   "source": [
    "In this scatterplot, we can clearly see that casual users spend longer time on their bikes on average. "
   ]
  },
  {
   "cell_type": "markdown",
   "metadata": {},
   "source": [
    "## 1.2 Quantitative Models"
   ]
  },
  {
   "cell_type": "code",
   "execution_count": 581,
   "metadata": {},
   "outputs": [],
   "source": [
    "import statsmodels.api as sm\n",
    "import statsmodels.formula.api as smf\n",
    "import numpy as np\n",
    "import matplotlib.pyplot as plt\n",
    "from scipy.stats import linregress"
   ]
  },
  {
   "cell_type": "markdown",
   "metadata": {},
   "source": [
    "### Duration vs Member Type"
   ]
  },
  {
   "cell_type": "code",
   "execution_count": 582,
   "metadata": {},
   "outputs": [
    {
     "name": "stdout",
     "output_type": "stream",
     "text": [
      "                            OLS Regression Results                            \n",
      "==============================================================================\n",
      "Dep. Variable:                    dur   R-squared:                       0.752\n",
      "Model:                            OLS   Adj. R-squared:                  0.752\n",
      "Method:                 Least Squares   F-statistic:                     2168.\n",
      "Date:                Mon, 07 Oct 2019   Prob (F-statistic):          1.48e-218\n",
      "Time:                        16:44:03   Log-Likelihood:                -4939.4\n",
      "No. Observations:                 716   AIC:                             9883.\n",
      "Df Residuals:                     714   BIC:                             9892.\n",
      "Df Model:                           1                                         \n",
      "Covariance Type:            nonrobust                                         \n",
      "==========================================================================================\n",
      "                             coef    std err          t      P>|t|      [0.025      0.975]\n",
      "------------------------------------------------------------------------------------------\n",
      "Intercept               1492.0000     12.690    117.575      0.000    1467.086    1516.914\n",
      "C(user_type)[T.Member]  -835.6970     17.946    -46.567      0.000    -870.930    -800.464\n",
      "==============================================================================\n",
      "Omnibus:                       73.952   Durbin-Watson:                   1.763\n",
      "Prob(Omnibus):                  0.000   Jarque-Bera (JB):              475.354\n",
      "Skew:                           0.133   Prob(JB):                    6.00e-104\n",
      "Kurtosis:                       6.983   Cond. No.                         2.62\n",
      "==============================================================================\n",
      "\n",
      "Warnings:\n",
      "[1] Standard Errors assume that the covariance matrix of the errors is correctly specified.\n"
     ]
    }
   ],
   "source": [
    "model = smf.ols(\"dur ~ C(user_type)\", data = df).fit()\n",
    "print(model.summary())"
   ]
  },
  {
   "cell_type": "markdown",
   "metadata": {},
   "source": [
    "### Distance vs Member Type"
   ]
  },
  {
   "cell_type": "code",
   "execution_count": 583,
   "metadata": {},
   "outputs": [
    {
     "name": "stdout",
     "output_type": "stream",
     "text": [
      "                            OLS Regression Results                            \n",
      "==============================================================================\n",
      "Dep. Variable:                   dist   R-squared:                       0.040\n",
      "Model:                            OLS   Adj. R-squared:                  0.039\n",
      "Method:                 Least Squares   F-statistic:                     29.83\n",
      "Date:                Mon, 07 Oct 2019   Prob (F-statistic):           6.53e-08\n",
      "Time:                        16:44:07   Log-Likelihood:                -4494.0\n",
      "No. Observations:                 716   AIC:                             8992.\n",
      "Df Residuals:                     714   BIC:                             9001.\n",
      "Df Model:                           1                                         \n",
      "Covariance Type:            nonrobust                                         \n",
      "==========================================================================================\n",
      "                             coef    std err          t      P>|t|      [0.025      0.975]\n",
      "------------------------------------------------------------------------------------------\n",
      "Intercept               1696.2946      6.812    249.019      0.000    1682.921    1709.668\n",
      "C(user_type)[T.Member]   -52.6129      9.634     -5.461      0.000     -71.526     -33.699\n",
      "==============================================================================\n",
      "Omnibus:                      128.026   Durbin-Watson:                   1.937\n",
      "Prob(Omnibus):                  0.000   Jarque-Bera (JB):             1663.732\n",
      "Skew:                          -0.343   Prob(JB):                         0.00\n",
      "Kurtosis:                      10.436   Cond. No.                         2.62\n",
      "==============================================================================\n",
      "\n",
      "Warnings:\n",
      "[1] Standard Errors assume that the covariance matrix of the errors is correctly specified.\n"
     ]
    }
   ],
   "source": [
    "model = smf.ols(\"dist ~ C(user_type)\", data = df).fit()\n",
    "print(model.summary())"
   ]
  },
  {
   "cell_type": "markdown",
   "metadata": {},
   "source": [
    "Form the linear regression results above, we notice that the p-values for both the intercepts as well as the slopes are smaller than 0.01. This means that there is a linear relationship between duration/distance and the member group. (duration/distance will decrease if the user is a member)"
   ]
  },
  {
   "cell_type": "code",
   "execution_count": 584,
   "metadata": {},
   "outputs": [
    {
     "data": {
      "text/plain": [
       "Ttest_indResult(statistic=-46.56709016796376, pvalue=1.4773694882696736e-218)"
      ]
     },
     "execution_count": 584,
     "metadata": {},
     "output_type": "execute_result"
    }
   ],
   "source": [
    "# df.groupby('user_type')['dur'].mean().diff()\n",
    "stats.ttest_ind(df[df['user_type']=='Member']['dur'], df[df['user_type']=='Casual']['dur'])\n"
   ]
  },
  {
   "cell_type": "code",
   "execution_count": 585,
   "metadata": {},
   "outputs": [
    {
     "data": {
      "text/plain": [
       "Ttest_indResult(statistic=-46.56709016796376, pvalue=1.4773694882696736e-218)"
      ]
     },
     "execution_count": 585,
     "metadata": {},
     "output_type": "execute_result"
    }
   ],
   "source": [
    "# df.groupby('user_type')['dist'].mean().diff()\n",
    "stats.ttest_ind(df[df['user_type']=='Member']['dur'], df[df['user_type']=='Casual']['dur'])\n"
   ]
  },
  {
   "cell_type": "markdown",
   "metadata": {},
   "source": [
    "From the above t-tests, we can see that the p-values are extremely small, indicating again there is a statistically significant difference between the two rider groups when it comes to their trip durations and distance. \n"
   ]
  },
  {
   "cell_type": "markdown",
   "metadata": {},
   "source": [
    "# Question 2: How to identify if a biker is a tourist or a resident?"
   ]
  },
  {
   "cell_type": "markdown",
   "metadata": {},
   "source": [
    "In this problem, the variables that matter are duration and distance, as we see previously that members and casual riders differ significantly in these aspects. The weather data is not relevant for determining the user type.\n",
    "\n",
    "Here, we use logistic regression to predict user type with trip duation and trip distance as independent variables."
   ]
  },
  {
   "cell_type": "markdown",
   "metadata": {},
   "source": [
    "### Logistic Regression"
   ]
  },
  {
   "cell_type": "code",
   "execution_count": 686,
   "metadata": {},
   "outputs": [
    {
     "name": "stdout",
     "output_type": "stream",
     "text": [
      "Training Data Shape: (537, 9) \n",
      "Test Data Shape: (179, 9) (716, 9)\n",
      "Test MSE: 0.02\n",
      "Train MSE: 0.01\n",
      "Training Accuracy: 99.81%\n",
      "Testing Accuracy: 99.44%\n"
     ]
    }
   ],
   "source": [
    "# casual is 1 and member is 0\n",
    "df['user_type_Casual'] = pd.get_dummies(df, columns = ['user_type'])['user_type_Casual']\n",
    "\n",
    "np.random.seed(2019)\n",
    "df_train = df.sample(frac = 0.75) # 75% data is random sample to train \n",
    "df_test = df.drop(index = df_train.index) #25% test\n",
    "print('Training Data Shape:', df_train.shape, '\\nTest Data Shape:', df_test.shape, df.shape) # check df shape\n",
    "\n",
    "df_train_X = df_train[['dist', 'dur']] #training features\n",
    "df_train_Y = df_train[['user_type_Casual']] #training dependent variable\n",
    "\n",
    "df_test_X = df_test[['dist', 'dur']] #test features\n",
    "df_test_Y = df_test[['user_type_Casual']] #test dependent variable \n",
    "\n",
    "# create logistic regression object\n",
    "logreg = linear_model.LogisticRegression()\n",
    "\n",
    "# train the model\n",
    "logreg.fit(df_train_X, df_train_Y)\n",
    "\n",
    "# predict using test set\n",
    "df_Y_pred_test = regr.predict(df_test_X)\n",
    "\n",
    "# predict using training set\n",
    "df_Y_pred_train = regr.predict(df_train_X)\n",
    "\n",
    "train_accuracy = 1 - len(np.where((np.array(df_Y_pred_train) - df_train_Y.values.reshape(-1,)) != 0)) / len(df_Y_pred_train)\n",
    "test_accuracy = 1 - len(np.where((np.array(df_Y_pred_test) - df_test_Y.values.reshape(-1,)) != 0)) / len(df_Y_pred_test)\n",
    "\n",
    "print(\"Test MSE: %.2f\" % mean_squared_error(df_test_Y, df_Y_pred_test))\n",
    "print(\"Train MSE: %.2f\" % mean_squared_error(df_train_Y, df_Y_pred_train))\n",
    "print(\"Training Accuracy: %.2f%%\" % (train_accuracy *100))\n",
    "print(\"Testing Accuracy: %.2f%%\" % (test_accuracy *100))"
   ]
  },
  {
   "cell_type": "markdown",
   "metadata": {},
   "source": [
    "### Logistic Regression with Cross Validation"
   ]
  },
  {
   "cell_type": "code",
   "execution_count": 709,
   "metadata": {},
   "outputs": [
    {
     "name": "stdout",
     "output_type": "stream",
     "text": [
      "[0.91666667 0.97222222 0.98611111 1.         1.         1.\n",
      " 1.         1.         1.         0.97142857]\n",
      "Average 10-fold Cross-Validation Accuracy: 0.98%\n"
     ]
    }
   ],
   "source": [
    "# use 10-fold cross-validation to evaluate the dataset again\n",
    "from sklearn.model_selection import train_test_split, cross_validate\n",
    "\n",
    "X = df[['dist', 'dur']]\n",
    "y = df[['user_type_Casual']]\n",
    "X_train, X_test, y_train, y_test = train_test_split(X, y, test_size = 0.25, random_state = 2019)\n",
    "cv_results = cross_validate(logreg, X, y, cv=10)\n",
    "\n",
    "print(cv_results['test_score'])\n",
    "print(\"Average 10-fold Cross-Validation Accuracy: %.2f%%\" % (cv_results['test_score'].mean()))\n"
   ]
  },
  {
   "cell_type": "code",
   "execution_count": 710,
   "metadata": {},
   "outputs": [
    {
     "name": "stdout",
     "output_type": "stream",
     "text": [
      "[0.73611111 0.79166667 0.48611111 0.38888889 0.34722222 0.13888889\n",
      " 0.51388889 0.55555556 0.8        0.85714286]\n",
      "Average 10-fold Cross-Validation Accuracy with only Distance: 0.56%\n"
     ]
    }
   ],
   "source": [
    "# Only using distance as input\n",
    "X = df[['dist']]\n",
    "X_train, X_test, y_train, y_test = train_test_split(X, y, test_size = 0.25, random_state = 2019)\n",
    "cv_results = cross_validate(logreg, X, y, cv=10)\n",
    "print(cv_results['test_score'])\n",
    "print(\"Average 10-fold Cross-Validation Accuracy with only Distance: %.2f%%\" % (cv_results['test_score'].mean()))\n"
   ]
  },
  {
   "cell_type": "code",
   "execution_count": 711,
   "metadata": {},
   "outputs": [
    {
     "name": "stdout",
     "output_type": "stream",
     "text": [
      "[0.875      0.94444444 0.98611111 0.98611111 1.         1.\n",
      " 1.         1.         1.         0.95714286]\n",
      "Average 10-fold Cross-Validation Accuracy with only Duration: 0.97%\n"
     ]
    }
   ],
   "source": [
    "# Only using duration as input\n",
    "X = df[['dur']]\n",
    "X_train, X_test, y_train, y_test = train_test_split(X, y, test_size = 0.25, random_state = 12)\n",
    "cv_results = cross_validate(logreg, X, y, cv=10)\n",
    "print(cv_results['test_score'])\n",
    "print(\"Average 10-fold Cross-Validation Accuracy with only Duration: %.2f%%\" % (cv_results['test_score'].mean()))"
   ]
  },
  {
   "cell_type": "markdown",
   "metadata": {},
   "source": [
    "We can see from the above logistic regression results that with trip duration and distance, we can accurately predict the user type of a trip. We achieved average cross-validation accuacy of 98%. Looking at how well distance or duration can predict user type on their own, duration is more effective than distance travelled when we classify user type. This aligns with what we saw earlier at the end of section 1.1, where the orange data points in the scatterplot all have duration less than 1000 seconds, and the blue ones are mostly greater than 1000. If we only look at the trip distance metric, it is harder to tell which user group a data point belongs to."
   ]
  },
  {
   "cell_type": "markdown",
   "metadata": {},
   "source": [
    "# Question 3: Do season or weather affect trip duration and distance?"
   ]
  },
  {
   "cell_type": "markdown",
   "metadata": {},
   "source": [
    "To answer this question, we need look at relationships between trip length vs. average temperature and precipitation. Trip length can be defined in two ways. It can be the duration of the trip or the distance of the trip.\n",
    "\n",
    "We expect both trip durations and distances to drop when it is colder or when it is raniy."
   ]
  },
  {
   "cell_type": "markdown",
   "metadata": {},
   "source": [
    "## 3.1 Visualizaing Relationship betwen Trip Length and Weather"
   ]
  },
  {
   "cell_type": "markdown",
   "metadata": {},
   "source": [
    "### Duration vs. Average Precipitation"
   ]
  },
  {
   "cell_type": "code",
   "execution_count": 663,
   "metadata": {},
   "outputs": [
    {
     "data": {
      "text/plain": [
       "<seaborn.axisgrid.FacetGrid at 0x1a67113f60>"
      ]
     },
     "execution_count": 663,
     "metadata": {},
     "output_type": "execute_result"
    },
    {
     "data": {
      "image/png": "[encoded data removed]",
      "text/plain": [
       "<Figure size 436.875x360 with 1 Axes>"
      ]
     },
     "metadata": {
      "needs_background": "light"
     },
     "output_type": "display_data"
    }
   ],
   "source": [
    "sns.lmplot(y = 'dur', x = 'precip', hue = 'user_type', data = df)"
   ]
  },
  {
   "cell_type": "markdown",
   "metadata": {},
   "source": [
    "### Distance vs. Average Precipitation"
   ]
  },
  {
   "cell_type": "code",
   "execution_count": 665,
   "metadata": {},
   "outputs": [
    {
     "data": {
      "text/plain": [
       "<seaborn.axisgrid.FacetGrid at 0x1a74fe9240>"
      ]
     },
     "execution_count": 665,
     "metadata": {},
     "output_type": "execute_result"
    },
    {
     "data": {
      "image/png": "[encoded data removed]",
      "text/plain": [
       "<Figure size 436.875x360 with 1 Axes>"
      ]
     },
     "metadata": {
      "needs_background": "light"
     },
     "output_type": "display_data"
    }
   ],
   "source": [
    "sns.lmplot(y = 'dist', x = 'precip', hue = 'user_type', data = df)"
   ]
  },
  {
   "cell_type": "markdown",
   "metadata": {},
   "source": [
    "First of all, we can see that overall there are way less trips being made when it is rainy. There is also a tendency for shorter trips for casual members, and rain doesn't seem to influence members too much despite there are less trip being made. This is because members are residents in the city and sometimes they will need to get home regardless if it is rainy or not, and tourists might take a taxi back to their hotels instead."
   ]
  },
  {
   "cell_type": "markdown",
   "metadata": {},
   "source": [
    "### Duration vs. Average Temperature"
   ]
  },
  {
   "cell_type": "code",
   "execution_count": 667,
   "metadata": {},
   "outputs": [
    {
     "data": {
      "text/plain": [
       "<seaborn.axisgrid.FacetGrid at 0x1a7b3380f0>"
      ]
     },
     "execution_count": 667,
     "metadata": {},
     "output_type": "execute_result"
    },
    {
     "data": {
      "image/png": "[encoded data removed]",
      "text/plain": [
       "<Figure size 436.875x360 with 1 Axes>"
      ]
     },
     "metadata": {
      "needs_background": "light"
     },
     "output_type": "display_data"
    }
   ],
   "source": [
    "sns.lmplot(y = 'dur', x = 'temp', hue = 'user_type', data = df)"
   ]
  },
  {
   "cell_type": "markdown",
   "metadata": {},
   "source": [
    "### Distance vs. Average Temperature"
   ]
  },
  {
   "cell_type": "code",
   "execution_count": 589,
   "metadata": {},
   "outputs": [
    {
     "data": {
      "text/plain": [
       "<seaborn.axisgrid.FacetGrid at 0x1a6ffc4cf8>"
      ]
     },
     "execution_count": 589,
     "metadata": {},
     "output_type": "execute_result"
    },
    {
     "data": {
      "image/png": "[encoded data removed]",
      "text/plain": [
       "<Figure size 436.875x360 with 1 Axes>"
      ]
     },
     "metadata": {
      "needs_background": "light"
     },
     "output_type": "display_data"
    }
   ],
   "source": [
    "sns.lmplot(y = 'dist', x = 'temp', hue = 'user_type', data = df)"
   ]
  },
  {
   "cell_type": "markdown",
   "metadata": {},
   "source": [
    "There are obvious tendency to spend less time in the cold weather for both groups. Members also travel less when it is cold. Casual member does not seem to care too much about how cold it was, though there is an increase in the variance of the distance travelled when the temperature is low."
   ]
  },
  {
   "cell_type": "markdown",
   "metadata": {},
   "source": [
    "## 3.2 Quantitative Models "
   ]
  },
  {
   "cell_type": "markdown",
   "metadata": {},
   "source": [
    "### Duration vs Temperature"
   ]
  },
  {
   "cell_type": "code",
   "execution_count": 590,
   "metadata": {
    "scrolled": true
   },
   "outputs": [
    {
     "name": "stdout",
     "output_type": "stream",
     "text": [
      "                            OLS Regression Results                            \n",
      "==============================================================================\n",
      "Dep. Variable:                    dur   R-squared:                       0.787\n",
      "Model:                            OLS   Adj. R-squared:                  0.786\n",
      "Method:                 Least Squares   F-statistic:                     877.7\n",
      "Date:                Mon, 07 Oct 2019   Prob (F-statistic):          1.17e-238\n",
      "Time:                        16:44:24   Log-Likelihood:                -4885.1\n",
      "No. Observations:                 716   AIC:                             9778.\n",
      "Df Residuals:                     712   BIC:                             9797.\n",
      "Df Model:                           3                                         \n",
      "Covariance Type:            nonrobust                                         \n",
      "==========================================================================================\n",
      "                             coef    std err          t      P>|t|      [0.025      0.975]\n",
      "------------------------------------------------------------------------------------------\n",
      "Intercept               1424.7710     15.132     94.158      0.000    1395.063    1454.479\n",
      "C(user_type)[T.Member]  -834.3285     16.659    -50.082      0.000    -867.036    -801.621\n",
      "temp                       8.2718      0.856      9.665      0.000       6.591       9.952\n",
      "precip                    -8.5578      1.640     -5.219      0.000     -11.777      -5.338\n",
      "==============================================================================\n",
      "Omnibus:                      165.046   Durbin-Watson:                   1.980\n",
      "Prob(Omnibus):                  0.000   Jarque-Bera (JB):             1020.057\n",
      "Skew:                           0.878   Prob(JB):                    3.14e-222\n",
      "Kurtosis:                       8.577   Cond. No.                         34.3\n",
      "==============================================================================\n",
      "\n",
      "Warnings:\n",
      "[1] Standard Errors assume that the covariance matrix of the errors is correctly specified.\n"
     ]
    }
   ],
   "source": [
    "model = smf.ols(\"dur ~ temp + precip + C(user_type)\", data = df).fit()\n",
    "print(model.summary())"
   ]
  },
  {
   "cell_type": "markdown",
   "metadata": {},
   "source": [
    "### Distance vs Temperature and Preception"
   ]
  },
  {
   "cell_type": "code",
   "execution_count": 657,
   "metadata": {},
   "outputs": [
    {
     "name": "stdout",
     "output_type": "stream",
     "text": [
      "                            OLS Regression Results                            \n",
      "==============================================================================\n",
      "Dep. Variable:                   dist   R-squared:                       0.091\n",
      "Model:                            OLS   Adj. R-squared:                  0.087\n",
      "Method:                 Least Squares   F-statistic:                     23.72\n",
      "Date:                Mon, 07 Oct 2019   Prob (F-statistic):           1.22e-14\n",
      "Time:                        21:29:20   Log-Likelihood:                -4474.5\n",
      "No. Observations:                 716   AIC:                             8957.\n",
      "Df Residuals:                     712   BIC:                             8975.\n",
      "Df Model:                           3                                         \n",
      "Covariance Type:            nonrobust                                         \n",
      "==========================================================================================\n",
      "                             coef    std err          t      P>|t|      [0.025      0.975]\n",
      "------------------------------------------------------------------------------------------\n",
      "Intercept               1668.5192      8.528    195.656      0.000    1651.777    1685.262\n",
      "C(user_type)[T.Member]   -52.1464      9.389     -5.554      0.000     -70.579     -33.713\n",
      "temp                       2.9741      0.482      6.166      0.000       2.027       3.921\n",
      "precip                    -1.4563      0.924     -1.576      0.116      -3.271       0.358\n",
      "==============================================================================\n",
      "Omnibus:                      133.365   Durbin-Watson:                   2.043\n",
      "Prob(Omnibus):                  0.000   Jarque-Bera (JB):             2437.448\n",
      "Skew:                           0.188   Prob(JB):                         0.00\n",
      "Kurtosis:                      12.031   Cond. No.                         34.3\n",
      "==============================================================================\n",
      "\n",
      "Warnings:\n",
      "[1] Standard Errors assume that the covariance matrix of the errors is correctly specified.\n"
     ]
    }
   ],
   "source": [
    "model = smf.ols(\"dist ~ temp + precip + C(user_type)\", data = df).fit()\n",
    "print(model.summary())"
   ]
  },
  {
   "cell_type": "markdown",
   "metadata": {},
   "source": [
    "From the above multiple linear regression models, based on the p-values in the first table, we can see that duration is highly correlated with temperature, precipitation and the type of user. Distance are related with temperature, user type. But precipitation does not influence the distance of bike trips since its p-value is larger than 0.1. This echoes the visualization of the plot of distance vs precipitation, where the regression lines are flat. However, we do see in that plot that a smaller number of data points are present when precipitation is high. This means people are making less trips when it is rainy."
   ]
  },
  {
   "cell_type": "code",
   "execution_count": null,
   "metadata": {},
   "outputs": [],
   "source": []
  }
 ],
 "metadata": {
  "kernelspec": {
   "display_name": "Python 3",
   "language": "python",
   "name": "python3"
  },
  "language_info": {
   "codemirror_mode": {
    "name": "ipython",
    "version": 3
   },
   "file_extension": ".py",
   "mimetype": "text/x-python",
   "name": "python",
   "nbconvert_exporter": "python",
   "pygments_lexer": "ipython3",
   "version": "3.7.3"
  }
 },
 "nbformat": 4,
 "nbformat_minor": 2
}
