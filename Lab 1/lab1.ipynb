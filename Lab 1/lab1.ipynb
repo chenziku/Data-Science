{
 "cells": [
  {
   "cell_type": "markdown",
   "metadata": {},
   "source": [
    "# STA2453 Lab 1\n",
    "\n",
    "## Instructions\n",
    "\n",
    "### Due Date:  September 24, 9:30\n",
    "\n",
    "Complete all the exercises from class 1 in this notebook.  Explanations should be appear in markdown cells and code with output should in code cells.  You may use either R or Python. "
   ]
  },
  {
   "cell_type": "markdown",
   "metadata": {},
   "source": [
    "__Name:__ <mark> Jerry Zikun Chen </mark>\n",
    "\n",
    "__Student Number:__ <mark> 1001117882 </mark>"
   ]
  },
  {
   "cell_type": "code",
   "execution_count": 1,
   "metadata": {},
   "outputs": [],
   "source": [
    "import pandas as pd\n",
    "import seaborn as sns\n",
    "import numpy as np\n",
    "import time\n",
    "from scipy import stats\n",
    "import matplotlib.pyplot as plt"
   ]
  },
  {
   "cell_type": "code",
   "execution_count": 2,
   "metadata": {},
   "outputs": [],
   "source": [
    "leuk_data = pd.read_csv('https://web.stanford.edu/~hastie/CASI_files/DATA/leukemia_big.csv')\n",
    "sns.set()"
   ]
  },
  {
   "cell_type": "markdown",
   "metadata": {},
   "source": [
    "# Exercise 1\n",
    "Create the histogram and boxplots above using R or Python. Interpret each plot. Which plot do you prefer to compare the distributions? Why?\n",
    "\n",
    "Is there a difference in gene 48 between patients with ALL (acute lymphoblastic leukemia) compared to AML (acute myeloid leukemia, a worse prognosis)?"
   ]
  },
  {
   "cell_type": "code",
   "execution_count": 3,
   "metadata": {},
   "outputs": [
    {
     "data": {
      "text/plain": [
       "Text(0, 0.5, 'count')"
      ]
     },
     "execution_count": 3,
     "metadata": {},
     "output_type": "execute_result"
    },
    {
     "data": {
      "image/png": "[encoded data removed]",
      "text/plain": [
       "<Figure size 432x288 with 1 Axes>"
      ]
     },
     "metadata": {},
     "output_type": "display_data"
    }
   ],
   "source": [
    "# Histogram\n",
    "num_bins = 11\n",
    "x_range = [-0.5, 1.5]\n",
    "ALL_data = leuk_data.filter(regex='^ALL', axis=1).loc[47]\n",
    "AML_data = leuk_data.filter(regex='^AML', axis=1).loc[47]\n",
    "sns.distplot(ALL_data, bins = num_bins, kde=False, label='ALL', hist_kws={\"range\": x_range})\n",
    "sns.distplot(AML_data, bins = num_bins, kde=False, label='AML', hist_kws={\"range\": x_range})\n",
    "\n",
    "# plot formatting\n",
    "plt.legend(prop={'size': 12})\n",
    "plt.title('Histogram of ALL and AML groups for Gene 48')\n",
    "plt.xlabel('value')\n",
    "plt.ylabel('count')"
   ]
  },
  {
   "cell_type": "code",
   "execution_count": 12,
   "metadata": {},
   "outputs": [
    {
     "data": {
      "text/plain": [
       "<matplotlib.axes._subplots.AxesSubplot at 0x7fec98157748>"
      ]
     },
     "execution_count": 12,
     "metadata": {},
     "output_type": "execute_result"
    },
    {
     "data": {
      "image/png": "[encoded data removed]",
      "text/plain": [
       "<Figure size 432x288 with 1 Axes>"
      ]
     },
     "metadata": {},
     "output_type": "display_data"
    }
   ],
   "source": [
    "# Boxplot\n",
    "ALL_df = ALL_data.to_frame()\n",
    "ALL_df.reset_index(inplace = True, drop=True) \n",
    "ALL_df['gene']='ALL'\n",
    "\n",
    "AML_df = AML_data.to_frame()\n",
    "AML_df.reset_index(inplace = True, drop=True) \n",
    "AML_df['gene']='AML'\n",
    "\n",
    "fourtyeight_df = pd.concat([ALL_df, AML_df])\n",
    "fourtyeight_df.rename(columns={47:'values'}, inplace=True)\n",
    "\n",
    "sns.boxplot(data=fourtyeight_df, x='gene', y='values')"
   ]
  },
  {
   "cell_type": "markdown",
   "metadata": {},
   "source": [
    "## Explanation"
   ]
  },
  {
   "cell_type": "markdown",
   "metadata": {},
   "source": [
    "Using which plot depends on the nature of the sample distribution and for what purpose. One example of histogram being the better choice is when the data is bimodal or trimodal. If we plot the same data on a boxplot, we cannot see the peaks that is hidden in the data distribution. A boxplot is a better choice when we are more focused on the quartiles and outliers of the distribution. It might be the case that the data is distributed very densely around its mean on a histogram, making it hard to tell whether the distribution is skewed. Furthermore, in terms of who is looking at the plots, histograms are more straightforward when presented to a non-technical audience who do not understand what quartiles are.\n",
    "\n",
    "By observing the plots, we can tell that there is a difference in gene 48 between patients with ALL compared to AML. ALL group has a smaller centre of its distribution and a smaller variance around the mean."
   ]
  },
  {
   "cell_type": "markdown",
   "metadata": {},
   "source": [
    "# Exercise 2"
   ]
  },
  {
   "cell_type": "markdown",
   "metadata": {},
   "source": [
    "Use R or Python to calculate a p-value for a test comparing the two groups. Interpret the p-value.\n",
    "\n",
    "This is one candidate gene out of 7,128 genes. Is t = -3.30 unusual?"
   ]
  },
  {
   "cell_type": "code",
   "execution_count": 13,
   "metadata": {},
   "outputs": [
    {
     "data": {
      "text/plain": [
       "Ttest_indResult(statistic=-3.304723060985416, pvalue=0.0015010850334556379)"
      ]
     },
     "execution_count": 13,
     "metadata": {},
     "output_type": "execute_result"
    }
   ],
   "source": [
    "# two sample t-test for gene 48\n",
    "g1 = fourtyeight_df[fourtyeight_df['gene']=='ALL']['values']\n",
    "g2 = fourtyeight_df[fourtyeight_df['gene']=='AML']['values']\n",
    "\n",
    "t48 = stats.ttest_ind(g1, g2).statistic\n",
    "stats.ttest_ind(g1, g2)"
   ]
  },
  {
   "cell_type": "markdown",
   "metadata": {},
   "source": [
    "## Explanation"
   ]
  },
  {
   "cell_type": "markdown",
   "metadata": {},
   "source": [
    "We see from the t-test result that the t statistic is -3.30 and the p-value is 0.0015, which is smaller than 0.05. We might want to conclude based on the p-value that there is a statiscally significant difference between the ALL group and AML group for gene 48. However, considering the fact that there are in total 7128 different candidate genes within the dataset, the chance of getting a significant p-value for some gene expressions could be high even if there is no real difference. "
   ]
  },
  {
   "cell_type": "markdown",
   "metadata": {},
   "source": [
    "# Exercise 3"
   ]
  },
  {
   "cell_type": "markdown",
   "metadata": {},
   "source": [
    "Create the histogram above using R or Python. Write a few sentences describing how the histogram above was generated. Is gene48 unusual compared to other genes?"
   ]
  },
  {
   "cell_type": "code",
   "execution_count": 14,
   "metadata": {},
   "outputs": [],
   "source": [
    "# add code for exercise 3 here\n",
    "m = len(leuk_data)\n",
    "\n",
    "# allocate space for empty array\n",
    "t_stat_array = [None]*m\n",
    "\n",
    "for i in range(m):\n",
    "    \n",
    "    ALL_data = leuk_data.filter(regex='^ALL', axis=1).loc[i]\n",
    "    AML_data = leuk_data.filter(regex='^AML', axis=1).loc[i]\n",
    "    \n",
    "    g1 = ALL_data.values\n",
    "    g2 = AML_data.values\n",
    "    \n",
    "    t_stat = stats.ttest_ind(g1, g2).statistic\n",
    "    t_stat_array[i] = t_stat"
   ]
  },
  {
   "cell_type": "code",
   "execution_count": 15,
   "metadata": {},
   "outputs": [
    {
     "data": {
      "text/plain": [
       "0.0484006734006734"
      ]
     },
     "execution_count": 15,
     "metadata": {},
     "output_type": "execute_result"
    }
   ],
   "source": [
    "# proportion of t values smaller than t value of gene 48 \n",
    "t_stat_array = np.array(t_stat_array)\n",
    "t_extremes = t_stat_array[t_stat_array < t48]\n",
    "len(t_extremes)/m"
   ]
  },
  {
   "cell_type": "code",
   "execution_count": 16,
   "metadata": {
    "scrolled": true
   },
   "outputs": [
    {
     "data": {
      "text/plain": [
       "<matplotlib.legend.Legend at 0x7fec97ff85c0>"
      ]
     },
     "execution_count": 16,
     "metadata": {},
     "output_type": "execute_result"
    },
    {
     "data": {
      "image/png": "[encoded data removed]",
      "text/plain": [
       "<Figure size 432x288 with 1 Axes>"
      ]
     },
     "metadata": {},
     "output_type": "display_data"
    }
   ],
   "source": [
    "# Plot Histogram of t statistics\n",
    "deg_free = len(leuk_data.columns) - 2\n",
    "\n",
    "# t distribution with 70 degree of freedom\n",
    "class FixedT(stats.distributions.t_gen):\n",
    "    def fit(self, *args, **kwargs):\n",
    "        return stats.t.fit(*args, fix_df=deg_free, **kwargs)\n",
    "\n",
    "# t distribution\n",
    "x = np.random.randn(1000000)\n",
    "sns.distplot(x, kde=False, fit=FixedT(), label=\"t distribution\")\n",
    "# t statistics calculated from above\n",
    "sns.distplot(t_stat_array, bins = 30, kde=False, hist_kws={\"range\": [-15,15]}, fit=FixedT(), label=\"t statistic\")\n",
    "\n",
    "# formatting\n",
    "plt.title('Histogram of t statistics of ALL and AML groups for all gene expressions')\n",
    "plt.xlabel('t statistic')\n",
    "plt.ylabel('proportion')\n",
    "plt.axvline(t48, 0, 1, color='red')\n",
    "plt.text(-4.5, -0.02, '-3.30', color='red')\n",
    "plt.legend(loc='upper left')\n"
   ]
  },
  {
   "cell_type": "markdown",
   "metadata": {},
   "source": [
    "## Explanation"
   ]
  },
  {
   "cell_type": "markdown",
   "metadata": {},
   "source": [
    "The data for the above plot is generated using a for loop that iterates over each expression of patients' gene data, and computes the two-sample t statistic from ALL and AML groups values of that particular expression. We than collect these t statistics together and plot a histogram of their values. Finally, we impose a t distribution curve with degree of freedom 70 in the same graph and highlight the value -3.30 of gene 48. Note that in the above graph the y-axis has proportions instead of values. This is because the histagram has been normalized in order for the t distribution to have the same proportion in the plot.\n",
    "\n",
    "Gene 48 now looks less unusual compared to Exercise 2 because 4.84% of the t-values from other gene expressions are even smaller than -3.30. We assumed in the null hypothesis that the two-sample t statistic follows a t distribution with 70 degrees of freedom. This assumption is probably wrong since it is too dense around the mean for the data distribution. This can cause insignificant t values to be significant around the tails, which is what we have observed in Exercise 2 (p-value = 0.0015). The actual data distribution in orange has much fatter tails on both ends."
   ]
  },
  {
   "cell_type": "markdown",
   "metadata": {},
   "source": [
    "# Exercise 4"
   ]
  },
  {
   "cell_type": "markdown",
   "metadata": {},
   "source": [
    "During a period two years which hospital is more likely to have more than 60% boys born? Use R or Python to create similar histograms that show the distributions of boys in a large and small hospital."
   ]
  },
  {
   "cell_type": "code",
   "execution_count": 17,
   "metadata": {},
   "outputs": [
    {
     "data": {
      "text/plain": [
       "<matplotlib.legend.Legend at 0x7fec97f714a8>"
      ]
     },
     "execution_count": 17,
     "metadata": {},
     "output_type": "execute_result"
    },
    {
     "data": {
      "image/png": "[encoded data removed]",
      "text/plain": [
       "<Figure size 432x288 with 1 Axes>"
      ]
     },
     "metadata": {},
     "output_type": "display_data"
    }
   ],
   "source": [
    "# Histograms\n",
    "days = 365*2\n",
    "np.random.seed(941)\n",
    "a = np.random.binomial(20, 0.5, size=days)/20\n",
    "b = np.random.binomial(50, 0.5, size=days)/50\n",
    "sns.distplot(a, kde=False, label=\"small\")\n",
    "sns.distplot(b, kde=False, label=\"large\")\n",
    "\n",
    "plt.axvline(0.6, 0, 1, color='red')\n",
    "plt.title('Histogram of proportion')\n",
    "plt.xlabel('Proportion of Boys')\n",
    "plt.ylabel('count')\n",
    "plt.legend()"
   ]
  },
  {
   "cell_type": "code",
   "execution_count": 18,
   "metadata": {},
   "outputs": [
    {
     "data": {
      "text/plain": [
       "0.1232876712328767"
      ]
     },
     "execution_count": 18,
     "metadata": {},
     "output_type": "execute_result"
    }
   ],
   "source": [
    "# Small hospital's proportion of 60% boys born in 2 years\n",
    "len(a[a>0.6])/days"
   ]
  },
  {
   "cell_type": "code",
   "execution_count": 19,
   "metadata": {},
   "outputs": [
    {
     "data": {
      "text/plain": [
       "0.05342465753424658"
      ]
     },
     "execution_count": 19,
     "metadata": {},
     "output_type": "execute_result"
    }
   ],
   "source": [
    "# Large hospital's proportion of 60% boys born in 2 years\n",
    "len(b[b>0.6])/days"
   ]
  },
  {
   "cell_type": "markdown",
   "metadata": {},
   "source": [
    "## Explanation"
   ]
  },
  {
   "cell_type": "markdown",
   "metadata": {
    "slideshow": {
     "slide_type": "slide"
    }
   },
   "source": [
    "As we can see, the smaller hospital is more likely to have more than 60% boys born during the two year period. We let each birth be a Bernoulli random variable with probability of boy born be $p = 0.5$. The proportion of boys is the sample mean of the distribution, which converges to $N(p, \\frac{p(1-p)}{n})$ by the central limit theorem. As we can see, in the asymptotic normal distribution, the proportion of boys in the small hospital has a larger variance since n is smaller. This means a greater chance of extreme values over 0.6."
   ]
  },
  {
   "cell_type": "markdown",
   "metadata": {},
   "source": [
    "# Exercise 5"
   ]
  },
  {
   "cell_type": "markdown",
   "metadata": {},
   "source": [
    "Use R or Python to create the permutation distribution. Calculate the two-sided P-value? Briefly interpret the two-sided P-value."
   ]
  },
  {
   "cell_type": "code",
   "execution_count": 20,
   "metadata": {},
   "outputs": [
    {
     "data": {
      "text/plain": [
       "-0.2269164104263829"
      ]
     },
     "execution_count": 20,
     "metadata": {},
     "output_type": "execute_result"
    }
   ],
   "source": [
    "# mean difference of gene 48 in the original data\n",
    "gene48_array = leuk_data.loc[47].values\n",
    "cutoff = 47\n",
    "\n",
    "ALL_data = leuk_data.filter(regex='^ALL', axis=1).loc[47]\n",
    "AML_data = leuk_data.filter(regex='^AML', axis=1).loc[47]\n",
    "\n",
    "m1 = ALL_data.mean()\n",
    "m2 = AML_data.mean()\n",
    "\n",
    "mean_diff_48 = m1 - m2\n",
    "mean_diff_48"
   ]
  },
  {
   "cell_type": "code",
   "execution_count": 21,
   "metadata": {},
   "outputs": [],
   "source": [
    "# take line 47 out\n",
    "N = 10000\n",
    "mean_diff_array = [None]*N\n",
    "gene48_array = leuk_data.loc[47].values\n",
    "ordered_indices = np.arange(len(leuk_data.columns))\n",
    "cutoff = 47\n",
    "\n",
    "for i in range(N):\n",
    "    # set seed for reproducibility\n",
    "    np.random.seed(i)\n",
    "    # permute indices\n",
    "    indices = np.random.permutation(ordered_indices)\n",
    "    perm = gene48_array[indices]\n",
    "    m1 = perm[:cutoff].mean()\n",
    "    m2 = perm[cutoff:].mean()\n",
    "    diff = m1-m2\n",
    "    mean_diff_array[i] = diff\n"
   ]
  },
  {
   "cell_type": "code",
   "execution_count": 22,
   "metadata": {
    "scrolled": true
   },
   "outputs": [
    {
     "data": {
      "text/plain": [
       "Text(0, 0.5, 'count')"
      ]
     },
     "execution_count": 22,
     "metadata": {},
     "output_type": "execute_result"
    },
    {
     "data": {
      "image/png": "[encoded data removed]",
      "text/plain": [
       "<Figure size 432x288 with 1 Axes>"
      ]
     },
     "metadata": {},
     "output_type": "display_data"
    }
   ],
   "source": [
    "# Plot Histogram\n",
    "sns.distplot(mean_diff_array, bins = 30)\n",
    "\n",
    "plt.axvline(mean_diff_48, 0, 1, color='red')\n",
    "plt.text(-0.3, 1, '- 0.23', color='red')\n",
    "plt.title('Permutation Null Distribution of Mean Difference')\n",
    "plt.xlabel('Mean Difference')\n",
    "plt.ylabel('count')"
   ]
  },
  {
   "cell_type": "code",
   "execution_count": 23,
   "metadata": {},
   "outputs": [
    {
     "data": {
      "text/plain": [
       "0.0015"
      ]
     },
     "execution_count": 23,
     "metadata": {},
     "output_type": "execute_result"
    }
   ],
   "source": [
    "# Calculate two-side p-value of above distribution\n",
    "mean_diff_array = np.array(mean_diff_array)\n",
    "num_extreme_neg = len(mean_diff_array[mean_diff_array < mean_diff_48])\n",
    "num_extreme_pos = len(mean_diff_array[mean_diff_array > -mean_diff_48])\n",
    "p_value = (num_extreme_neg + num_extreme_pos) / len(mean_diff_array)\n",
    "p_value"
   ]
  },
  {
   "cell_type": "markdown",
   "metadata": {},
   "source": [
    "## Explanation"
   ]
  },
  {
   "cell_type": "markdown",
   "metadata": {},
   "source": [
    "As we can see, the two-sided p-value is 0.0015, which is statistically significant. As stated in the book CASI, this means that \"the actual division of AML and ALL measurements were not random, but rather resulted from negation of the null hypothesis\". Under null hypothesis, we are allowed to permute the gene expression values for ALL and AML groups. The observed difference value -0.23 lies in the two-tailed 5% critical regions. There are only 0.15% chance of seeing this value on both sides of the extreme if there are no difference in ALL and AML groups. Therefore, it is safe to reject the null hypothesis and conclude that there is difference in the gene 48 expressions between the two groups."
   ]
  }
 ],
 "metadata": {
  "hide_input": false,
  "kernelspec": {
   "display_name": "Python 3",
   "language": "python",
   "name": "python3"
  },
  "language_info": {
   "codemirror_mode": {
    "name": "ipython",
    "version": 3
   },
   "file_extension": ".py",
   "mimetype": "text/x-python",
   "name": "python",
   "nbconvert_exporter": "python",
   "pygments_lexer": "ipython3",
   "version": "3.7.3"
  }
 },
 "nbformat": 4,
 "nbformat_minor": 2
}
